{
 "cells": [
  {
   "cell_type": "markdown",
   "metadata": {},
   "source": [
    "# 上课卷积\n",
    "## 卷积：局部特征提取器，对每个区域进行加权求和w-f+1\n",
    "权重共享\n",
    "## 步幅\n",
    "可能不是1\n",
    "## 填充\n",
    "\n",
    "**不同卷积核是为了检测不同特征**\n",
    "\n",
    "\n",
    "\n"
   ]
  },
  {
   "cell_type": "code",
   "execution_count": null,
   "metadata": {},
   "outputs": [],
   "source": []
  }
 ],
 "metadata": {
  "language_info": {
   "name": "python"
  },
  "orig_nbformat": 4
 },
 "nbformat": 4,
 "nbformat_minor": 2
}
