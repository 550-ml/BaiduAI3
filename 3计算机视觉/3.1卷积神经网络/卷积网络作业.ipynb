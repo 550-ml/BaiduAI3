{
 "cells": [
  {
   "cell_type": "code",
   "execution_count": 2,
   "metadata": {},
   "outputs": [
    {
     "name": "stderr",
     "output_type": "stream",
     "text": [
      "e:\\SoftWare\\Program\\Anaconda\\envs\\d2l\\lib\\site-packages\\paddle\\io\\reader.py:433: UserWarning: DataLoader with multi-process mode is not supported on MacOs and Windows currently. Please use signle-process mode with num_workers = 0 instead\n",
      "  warnings.warn(\n"
     ]
    }
   ],
   "source": [
    "# 定义一个加载MNIST数据集，并且生成data_loader\n",
    "from paddle.io import DataLoader \n",
    "import paddle\n",
    "from paddle.vision.transforms import Normalize\n",
    "def get_MNIST_dataset():\n",
    "    transform = Normalize(mean=[127.5],std=[127.5], data_format='CHW')  # 图像归一化\n",
    "    # 加载数据集\n",
    "    train_dataset = paddle.vision.datasets.MNIST(mode='train', transform = transform)\n",
    "    test_dataset = paddle.vision.datasets.MNIST(mode='test', transform = transform)\n",
    "    # 定义并初始化data_loader\n",
    "    train_loader = DataLoader(dataset=train_dataset, batch_size=64, shuffle=True, num_workers=1, drop_last= True)\n",
    "    test_loader = DataLoader(dataset=test_dataset, batch_size=64, shuffle=False, num_workers=1, drop_last= False)\n",
    "\n",
    "    return train_loader, test_loader\n",
    "\n",
    "train_loader, test_loader = get_MNIST_dataset()"
   ]
  },
  {
   "cell_type": "code",
   "execution_count": null,
   "metadata": {},
   "outputs": [],
   "source": [
    "# 定义卷积神经网络\n",
    "class MNIST_COV(paddle.nn.Layer):\n",
    "    def __init__"
   ]
  },
  {
   "cell_type": "code",
   "execution_count": null,
   "metadata": {},
   "outputs": [],
   "source": []
  }
 ],
 "metadata": {
  "kernelspec": {
   "display_name": "d2l",
   "language": "python",
   "name": "python3"
  },
  "language_info": {
   "codemirror_mode": {
    "name": "ipython",
    "version": 3
   },
   "file_extension": ".py",
   "mimetype": "text/x-python",
   "name": "python",
   "nbconvert_exporter": "python",
   "pygments_lexer": "ipython3",
   "version": "3.8.16"
  }
 },
 "nbformat": 4,
 "nbformat_minor": 2
}
