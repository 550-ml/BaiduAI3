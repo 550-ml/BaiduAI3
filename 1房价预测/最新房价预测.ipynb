{
 "cells": [
  {
   "attachments": {},
   "cell_type": "markdown",
   "id": "822fb302-5c9c-45ca-acbb-92683cae3c1a",
   "metadata": {},
   "source": [
    "## 数据处理\n"
   ]
  },
  {
   "cell_type": "code",
   "execution_count": 45,
   "id": "a4e3efcf-0ced-4a73-bfb2-28dacafddf02",
   "metadata": {
    "execution": {
     "iopub.execute_input": "2023-06-09T10:13:27.902017Z",
     "iopub.status.busy": "2023-06-09T10:13:27.901422Z",
     "iopub.status.idle": "2023-06-09T10:13:27.913920Z",
     "shell.execute_reply": "2023-06-09T10:13:27.912892Z",
     "shell.execute_reply.started": "2023-06-09T10:13:27.901982Z"
    },
    "scrolled": true
   },
   "outputs": [
    {
     "name": "stdout",
     "output_type": "stream",
     "text": [
      "[6.320e-03 1.800e+01 2.310e+00 ... 3.969e+02 7.880e+00 1.190e+01]\r\n"
     ]
    },
    {
     "data": {
      "text/plain": [
       "array([6.320e-03, 1.800e+01, 2.310e+00, ..., 3.969e+02, 7.880e+00,\n",
       "       1.190e+01])"
      ]
     },
     "execution_count": 45,
     "metadata": {},
     "output_type": "execute_result"
    }
   ],
   "source": [
    "import numpy as np\n",
    "import json\n",
    "# 读取数据\n",
    "datafile = './work/housing.data'\n",
    "data = np.fromfile(datafile, sep = ' ')\n",
    "print(data)\n",
    "data"
   ]
  },
  {
   "attachments": {},
   "cell_type": "markdown",
   "id": "a836d2b3-0049-427b-9990-1cbb352ec31a",
   "metadata": {},
   "source": [
    "### 数据形式的转换\n"
   ]
  },
  {
   "cell_type": "code",
   "execution_count": 46,
   "id": "5ac5991a-8e71-4f0a-86d8-ea8952afc6c5",
   "metadata": {
    "execution": {
     "iopub.execute_input": "2023-06-09T10:13:27.916102Z",
     "iopub.status.busy": "2023-06-09T10:13:27.915467Z",
     "iopub.status.idle": "2023-06-09T10:13:27.924813Z",
     "shell.execute_reply": "2023-06-09T10:13:27.923928Z",
     "shell.execute_reply.started": "2023-06-09T10:13:27.916071Z"
    },
    "scrolled": true
   },
   "outputs": [
    {
     "name": "stdout",
     "output_type": "stream",
     "text": [
      "data.shape[0] 7084\r\n"
     ]
    },
    {
     "data": {
      "text/plain": [
       "array([[6.3200e-03, 1.8000e+01, 2.3100e+00, ..., 3.9690e+02, 4.9800e+00,\n",
       "        2.4000e+01],\n",
       "       [2.7310e-02, 0.0000e+00, 7.0700e+00, ..., 3.9690e+02, 9.1400e+00,\n",
       "        2.1600e+01],\n",
       "       [2.7290e-02, 0.0000e+00, 7.0700e+00, ..., 3.9283e+02, 4.0300e+00,\n",
       "        3.4700e+01],\n",
       "       ...,\n",
       "       [6.0760e-02, 0.0000e+00, 1.1930e+01, ..., 3.9690e+02, 5.6400e+00,\n",
       "        2.3900e+01],\n",
       "       [1.0959e-01, 0.0000e+00, 1.1930e+01, ..., 3.9345e+02, 6.4800e+00,\n",
       "        2.2000e+01],\n",
       "       [4.7410e-02, 0.0000e+00, 1.1930e+01, ..., 3.9690e+02, 7.8800e+00,\n",
       "        1.1900e+01]])"
      ]
     },
     "execution_count": 46,
     "metadata": {},
     "output_type": "execute_result"
    }
   ],
   "source": [
    "# 一维的array要转换成2维的array\n",
    "feature_names =  [ 'CRIM', 'ZN', 'INDUS', 'CHAS', 'NOX', 'RM', 'AGE','DIS', \n",
    "                 'RAD', 'TAX', 'PTRATIO', 'B', 'LSTAT', 'MEDV' ]\n",
    "feature_num = len(feature_names)\n",
    "print('data.shape[0]', data.shape[0])\n",
    "data = data.reshape([data.shape[0] // feature_num, feature_num])\n",
    "data"
   ]
  },
  {
   "attachments": {},
   "cell_type": "markdown",
   "id": "d248b242-4d16-409d-9074-d9c1b22c95ae",
   "metadata": {},
   "source": [
    "## 数据集的划分\n",
    "经典的划分成训练集和测试集"
   ]
  },
  {
   "cell_type": "code",
   "execution_count": 47,
   "id": "8059cc8b-1d83-4af2-bdf4-7a314ef446d6",
   "metadata": {
    "execution": {
     "iopub.execute_input": "2023-06-09T10:13:27.926895Z",
     "iopub.status.busy": "2023-06-09T10:13:27.926207Z",
     "iopub.status.idle": "2023-06-09T10:13:27.932352Z",
     "shell.execute_reply": "2023-06-09T10:13:27.931430Z",
     "shell.execute_reply.started": "2023-06-09T10:13:27.926839Z"
    },
    "scrolled": true
   },
   "outputs": [
    {
     "data": {
      "text/plain": [
       "(394, 14)"
      ]
     },
     "execution_count": 47,
     "metadata": {},
     "output_type": "execute_result"
    }
   ],
   "source": [
    "ratio = 0.78\n",
    "offest = int(data.shape[0] * ratio)\n",
    "training_data = data[:offest]\n",
    "training_data.shape"
   ]
  },
  {
   "attachments": {},
   "cell_type": "markdown",
   "id": "98c9de40-f482-442e-b592-a346999f095c",
   "metadata": {},
   "source": [
    "## 数据归一化处理\n",
    "==高亮=="
   ]
  },
  {
   "cell_type": "code",
   "execution_count": 48,
   "id": "8bc07bb7-e307-4dc2-9850-fedcfdb406d8",
   "metadata": {
    "execution": {
     "iopub.execute_input": "2023-06-09T10:13:27.934614Z",
     "iopub.status.busy": "2023-06-09T10:13:27.934215Z",
     "iopub.status.idle": "2023-06-09T10:13:27.942881Z",
     "shell.execute_reply": "2023-06-09T10:13:27.941967Z",
     "shell.execute_reply.started": "2023-06-09T10:13:27.934588Z"
    },
    "scrolled": true
   },
   "outputs": [
    {
     "data": {
      "text/plain": [
       "array([[0.00000000e+00, 1.80000000e-01, 7.34418420e-02, ...,\n",
       "        1.00000000e+00, 8.96799117e-02, 3.92523364e-01],\n",
       "       [2.35922539e-04, 0.00000000e+00, 2.62405717e-01, ...,\n",
       "        1.00000000e+00, 2.04470199e-01, 3.36448598e-01],\n",
       "       [2.35697744e-04, 0.00000000e+00, 2.62405717e-01, ...,\n",
       "        9.87519166e-01, 6.34657837e-02, 6.42523364e-01],\n",
       "       ...,\n",
       "       [6.11892474e-04, 0.00000000e+00, 4.55339420e-01, ...,\n",
       "        1.00000000e+00, 1.07891832e-01, 3.90186916e-01],\n",
       "       [1.16072990e-03, 0.00000000e+00, 4.55339420e-01, ...,\n",
       "        9.89420423e-01, 1.31070640e-01, 3.45794393e-01],\n",
       "       [4.61841693e-04, 0.00000000e+00, 4.55339420e-01, ...,\n",
       "        1.00000000e+00, 1.69701987e-01, 1.09813084e-01]])"
      ]
     },
     "execution_count": 48,
     "metadata": {},
     "output_type": "execute_result"
    }
   ],
   "source": [
    "# 计算最大值和最小值\n",
    "maximums, minimums = training_data.max(axis=0), training_data.min(axis=0)\n",
    "# 归一化处理\n",
    "for i in range(feature_num): # 太帅了，直接对所有的数据一行就操作完了\n",
    "    data[:,i] = (data[:, i] - minimums[i]) / (maximums[i] - minimums[i])\n",
    "data"
   ]
  },
  {
   "cell_type": "code",
   "execution_count": 49,
   "id": "8504cee3-4d6f-444a-b273-c761b474ef5e",
   "metadata": {
    "execution": {
     "iopub.execute_input": "2023-06-09T10:13:27.944299Z",
     "iopub.status.busy": "2023-06-09T10:13:27.944009Z",
     "iopub.status.idle": "2023-06-09T10:13:27.952773Z",
     "shell.execute_reply": "2023-06-09T10:13:27.951775Z",
     "shell.execute_reply.started": "2023-06-09T10:13:27.944273Z"
    },
    "scrolled": true
   },
   "outputs": [
    {
     "data": {
      "text/plain": [
       "array([[0.00000000e+00, 1.80000000e-01, 7.34418420e-02, ...,\n",
       "        1.00000000e+00, 8.96799117e-02, 3.92523364e-01],\n",
       "       [2.35922539e-04, 0.00000000e+00, 2.62405717e-01, ...,\n",
       "        1.00000000e+00, 2.04470199e-01, 3.36448598e-01],\n",
       "       [2.35697744e-04, 0.00000000e+00, 2.62405717e-01, ...,\n",
       "        9.87519166e-01, 6.34657837e-02, 6.42523364e-01],\n",
       "       ...,\n",
       "       [6.11892474e-04, 0.00000000e+00, 4.55339420e-01, ...,\n",
       "        1.00000000e+00, 1.07891832e-01, 3.90186916e-01],\n",
       "       [1.16072990e-03, 0.00000000e+00, 4.55339420e-01, ...,\n",
       "        9.89420423e-01, 1.31070640e-01, 3.45794393e-01],\n",
       "       [4.61841693e-04, 0.00000000e+00, 4.55339420e-01, ...,\n",
       "        1.00000000e+00, 1.69701987e-01, 1.09813084e-01]])"
      ]
     },
     "execution_count": 49,
     "metadata": {},
     "output_type": "execute_result"
    }
   ],
   "source": [
    "# 计算train数据集的最大值，最小值\n",
    "maximums, minimums = \\\n",
    "                     training_data.max(axis=0), \\\n",
    "                     training_data.min(axis=0), \n",
    "# 对数据进行归一化处理\n",
    "for i in range(feature_num):\n",
    "    data[:, i] = (data[:, i] - minimums[i]) / (maximums[i] - minimums[i])\n",
    "data"
   ]
  },
  {
   "cell_type": "code",
   "execution_count": 50,
   "id": "464d94b4-6a01-4c12-8c71-20ebe1ae6179",
   "metadata": {
    "execution": {
     "iopub.execute_input": "2023-06-09T10:13:27.954668Z",
     "iopub.status.busy": "2023-06-09T10:13:27.954373Z",
     "iopub.status.idle": "2023-06-09T10:13:27.963615Z",
     "shell.execute_reply": "2023-06-09T10:13:27.962579Z",
     "shell.execute_reply.started": "2023-06-09T10:13:27.954640Z"
    },
    "scrolled": true,
    "tags": []
   },
   "outputs": [],
   "source": [
    "# 封装成load_data\n",
    "def load_data():\n",
    "    # 获取数据\n",
    "    datafile = './work/housing.data'\n",
    "    data = np.fromfile(datafile, sep = ' ')\n",
    "\n",
    "    # 每个特征的名字\n",
    "    feature_names = [ 'CRIM', 'ZN', 'INDUS', 'CHAS', 'NOX', 'RM', 'AGE', \\\n",
    "                      'DIS', 'RAD', 'TAX', 'PTRATIO', 'B', 'LSTAT', 'MEDV' ]\n",
    "    feature_num = len(feature_names)\n",
    "    \n",
    "    # 把一维的数据reshape成二维\n",
    "    data = data.reshape([data.shape[0] // feature_num, feature_num])\n",
    "\n",
    "    # 划分训练集和测试集\n",
    "    ratio = 0.82\n",
    "    offset = int(data.shape[0] * ratio)\n",
    "    training_data = data[:offset]\n",
    "\n",
    "    # 计算最小值和最大值进行归一化\n",
    "    maximums, minimums = training_data.max(axis=0), training_data.min(axis=0)\n",
    "\n",
    "    # 对数据进行归一化处理\n",
    "    for i in range(feature_num):\n",
    "        data[:, i] = (data[:, i] - minimums[i]) / (maximums[i] - minimums[i])\n",
    "    \n",
    "    # 训练集和测试集的划分\n",
    "    training_data = data[:offset]\n",
    "    test_data = data[offset:]\n",
    "    return training_data, test_data\n"
   ]
  },
  {
   "cell_type": "code",
   "execution_count": 51,
   "id": "7354a881-9bd3-4b40-b4af-345194a276b7",
   "metadata": {
    "execution": {
     "iopub.execute_input": "2023-06-09T10:13:27.965229Z",
     "iopub.status.busy": "2023-06-09T10:13:27.964779Z",
     "iopub.status.idle": "2023-06-09T10:13:27.976061Z",
     "shell.execute_reply": "2023-06-09T10:13:27.974952Z",
     "shell.execute_reply.started": "2023-06-09T10:13:27.965202Z"
    },
    "scrolled": true,
    "tags": []
   },
   "outputs": [
    {
     "name": "stdout",
     "output_type": "stream",
     "text": [
      "[0.         0.18       0.07344184 0.         0.31481481 0.57750527\r\n",
      " 0.64160659 0.26920314 0.         0.22755741 0.28723404 1.\r\n",
      " 0.08967991] [0.42222222]\r\n"
     ]
    }
   ],
   "source": [
    "training_data, test_data = load_data()\n",
    "x = training_data[:,:-1]\n",
    "y = training_data[:,-1:]\n",
    "print(x[0],y[0])"
   ]
  },
  {
   "attachments": {},
   "cell_type": "markdown",
   "id": "dfbc03f7-e72c-4ace-9119-12842bef8df3",
   "metadata": {},
   "source": [
    "## 模型的设计\n",
    "前馈神经网络"
   ]
  },
  {
   "cell_type": "code",
   "execution_count": 52,
   "id": "2c6f9907-8577-4835-a929-9f4c108b1a4f",
   "metadata": {
    "execution": {
     "iopub.execute_input": "2023-06-09T10:13:27.977555Z",
     "iopub.status.busy": "2023-06-09T10:13:27.977248Z",
     "iopub.status.idle": "2023-06-09T10:13:27.984740Z",
     "shell.execute_reply": "2023-06-09T10:13:27.983718Z",
     "shell.execute_reply.started": "2023-06-09T10:13:27.977502Z"
    },
    "scrolled": true
   },
   "outputs": [],
   "source": [
    "class Network(object):\n",
    "    def __init__(self, num_of_weights):\n",
    "        # 随机化权重W,肯定是要给一个权重数量的，固定随机数种子\n",
    "        np.random.seed(1)\n",
    "        self.w = np.random.randn(num_of_weights, 1)\n",
    "        self.b = 0.\n",
    "    def forward(self,x):\n",
    "        z = np.dot(x, self.w) +self.b\n",
    "        return z\n",
    "    \n",
    "    # 定义损失函数\n",
    "    def loss(self, z, y):\n",
    "        error = z - y\n",
    "        cost = error * error\n",
    "        cost = np.mean(cost)\n",
    "        return cost"
   ]
  },
  {
   "cell_type": "code",
   "execution_count": 53,
   "id": "d6da7173-4c16-4148-b9a4-b093eda1bd94",
   "metadata": {
    "execution": {
     "iopub.execute_input": "2023-06-09T10:13:27.987084Z",
     "iopub.status.busy": "2023-06-09T10:13:27.986489Z",
     "iopub.status.idle": "2023-06-09T10:13:27.994576Z",
     "shell.execute_reply": "2023-06-09T10:13:27.993746Z",
     "shell.execute_reply.started": "2023-06-09T10:13:27.987056Z"
    },
    "scrolled": true
   },
   "outputs": [
    {
     "name": "stdout",
     "output_type": "stream",
     "text": [
      "[[0.00000000e+00 1.80000000e-01 7.34418420e-02 0.00000000e+00\r\n",
      "  3.14814815e-01 5.77505269e-01 6.41606591e-01 2.69203139e-01\r\n",
      "  0.00000000e+00 2.27557411e-01 2.87234043e-01 1.00000000e+00\r\n",
      "  8.96799117e-02]\r\n",
      " [2.35922539e-04 0.00000000e+00 2.62405717e-01 0.00000000e+00\r\n",
      "  1.72839506e-01 5.47997701e-01 7.82698249e-01 3.48961980e-01\r\n",
      "  4.34782609e-02 1.14822547e-01 5.53191489e-01 1.00000000e+00\r\n",
      "  2.04470199e-01]\r\n",
      " [2.35697744e-04 0.00000000e+00 2.62405717e-01 0.00000000e+00\r\n",
      "  1.72839506e-01 6.94385898e-01 5.99382080e-01 3.48961980e-01\r\n",
      "  4.34782609e-02 1.14822547e-01 5.53191489e-01 9.89677910e-01\r\n",
      "  6.34657837e-02]] [[0.42222222]\r\n",
      " [0.36888889]\r\n",
      " [0.66      ]]\r\n",
      "[[-2.01688416]\r\n",
      " [-1.48184634]\r\n",
      " [-2.0718898 ]]\r\n",
      "5.612560909341679\r\n"
     ]
    }
   ],
   "source": [
    "# 拿前三个试一下\n",
    "x1 = x[0:3]\n",
    "y1 = y[0:3]\n",
    "print(x1,y1)\n",
    "net = Network(13)\n",
    "z1 = net.forward(x1)\n",
    "print(z1)\n",
    "loss = net.loss(z1,y1)\n",
    "print(loss)"
   ]
  },
  {
   "cell_type": "code",
   "execution_count": 54,
   "id": "adeab3cf-699b-4fb2-86c6-beb0e345ad1b",
   "metadata": {
    "execution": {
     "iopub.execute_input": "2023-06-09T10:13:27.997857Z",
     "iopub.status.busy": "2023-06-09T10:13:27.997387Z",
     "iopub.status.idle": "2023-06-09T10:13:28.003616Z",
     "shell.execute_reply": "2023-06-09T10:13:28.002720Z",
     "shell.execute_reply.started": "2023-06-09T10:13:27.997828Z"
    },
    "scrolled": true
   },
   "outputs": [
    {
     "name": "stdout",
     "output_type": "stream",
     "text": [
      "gradient_w[[-0.00000000e+00 -4.39039149e-01 -1.79132466e-01 -0.00000000e+00\r\n",
      "  -7.67866825e-01 -1.40859679e+00 -1.56494673e+00 -6.56615095e-01\r\n",
      "  -0.00000000e+00 -5.55036735e-01 -7.00594387e-01 -2.43910638e+00\r\n",
      "  -2.18738845e-01]\r\n",
      " [-4.36630154e-04 -0.00000000e+00 -4.85643503e-01 -0.00000000e+00\r\n",
      "  -3.19880163e-01 -1.01419865e+00 -1.44856722e+00 -6.45836229e-01\r\n",
      "  -8.04667490e-02 -2.12506132e-01 -1.02381098e+00 -1.85073523e+00\r\n",
      "  -3.78420199e-01]\r\n",
      " [-6.43900264e-04 -0.00000000e+00 -7.16863502e-01 -0.00000000e+00\r\n",
      "  -4.72178485e-01 -1.89698575e+00 -1.63744579e+00 -9.53325676e-01\r\n",
      "  -1.18777818e-01 -3.13682545e-01 -1.51125819e+00 -2.70369099e+00\r\n",
      "  -1.73381527e-01]]\r\n"
     ]
    }
   ],
   "source": [
    "# 利用广播机制，求梯度\n",
    "gradient_w = (z1 - y1) * x1\n",
    "print(f'gradient_w{gradient_w}')"
   ]
  },
  {
   "cell_type": "code",
   "execution_count": 55,
   "id": "c2e0d741-3dd5-4dd3-955f-4a83e0cf8a87",
   "metadata": {
    "execution": {
     "iopub.execute_input": "2023-06-09T10:13:28.005653Z",
     "iopub.status.busy": "2023-06-09T10:13:28.005346Z",
     "iopub.status.idle": "2023-06-09T10:13:28.013798Z",
     "shell.execute_reply": "2023-06-09T10:13:28.012738Z",
     "shell.execute_reply.started": "2023-06-09T10:13:28.005625Z"
    },
    "scrolled": true,
    "tags": []
   },
   "outputs": [
    {
     "name": "stdout",
     "output_type": "stream",
     "text": [
      "gradient_w(414, 13)\r\n"
     ]
    },
    {
     "data": {
      "text/plain": [
       "array([[-0.00000000e+00, -4.39039149e-01, -1.79132466e-01, ...,\n",
       "        -7.00594387e-01, -2.43910638e+00, -2.18738845e-01],\n",
       "       [-4.36630154e-04, -0.00000000e+00, -4.85643503e-01, ...,\n",
       "        -1.02381098e+00, -1.85073523e+00, -3.78420199e-01],\n",
       "       [-6.43900264e-04, -0.00000000e+00, -7.16863502e-01, ...,\n",
       "        -1.51125819e+00, -2.70369099e+00, -1.73381527e-01],\n",
       "       ...,\n",
       "       [ 1.97911272e-01,  0.00000000e+00,  8.77973436e-01, ...,\n",
       "         1.01367025e+00,  1.03180799e-01,  6.74271204e-01],\n",
       "       [ 4.50992885e-01,  0.00000000e+00,  1.49422900e+00, ...,\n",
       "         1.72517234e+00,  1.41727938e-01,  1.92180230e+00],\n",
       "       [ 4.15229389e-01,  0.00000000e+00,  9.02993779e-01, ...,\n",
       "         1.04255766e+00,  6.81432370e-01,  6.52923387e-01]])"
      ]
     },
     "execution_count": 55,
     "metadata": {},
     "output_type": "execute_result"
    }
   ],
   "source": [
    "# 刚才是前3组，现在我要进行所有的\n",
    "z = net.forward(x)\n",
    "gradient_w = (z - y) * x\n",
    "print(f'gradient_w{gradient_w.shape}')\n",
    "gradient_w\n"
   ]
  },
  {
   "cell_type": "code",
   "execution_count": 56,
   "id": "c4f8286d-67be-431c-b82d-387cdfd81f88",
   "metadata": {
    "execution": {
     "iopub.execute_input": "2023-06-09T10:13:28.015573Z",
     "iopub.status.busy": "2023-06-09T10:13:28.015181Z",
     "iopub.status.idle": "2023-06-09T10:13:28.022610Z",
     "shell.execute_reply": "2023-06-09T10:13:28.021619Z",
     "shell.execute_reply.started": "2023-06-09T10:13:28.015544Z"
    },
    "scrolled": true,
    "tags": []
   },
   "outputs": [
    {
     "data": {
      "text/plain": [
       "array([[ 0.00651007],\n",
       "       [-0.49548116],\n",
       "       [-0.48829378],\n",
       "       [-0.23979725],\n",
       "       [-0.38658655],\n",
       "       [-1.16800436],\n",
       "       [-0.95417228],\n",
       "       [-0.71113308],\n",
       "       [-0.29747312],\n",
       "       [-0.47342237],\n",
       "       [-0.9704105 ],\n",
       "       [-1.94597373],\n",
       "       [-0.3434397 ]])"
      ]
     },
     "execution_count": 56,
     "metadata": {},
     "output_type": "execute_result"
    }
   ],
   "source": [
    "# axis = 0 表示把每一行做相加然后再除以总的行数\n",
    "gradient_w = np.mean(gradient_w, axis=0)\n",
    "gradient_w = gradient_w[:, np.newaxis]\n",
    "gradient_w"
   ]
  },
  {
   "cell_type": "code",
   "execution_count": null,
   "id": "34263631-8869-4813-9afa-3291f99fbc6a",
   "metadata": {
    "execution": {
     "iopub.execute_input": "2023-06-09T10:13:28.024387Z",
     "iopub.status.busy": "2023-06-09T10:13:28.023985Z",
     "iopub.status.idle": "2023-06-09T10:13:28.032717Z",
     "shell.execute_reply": "2023-06-09T10:13:28.031689Z",
     "shell.execute_reply.started": "2023-06-09T10:13:28.024358Z"
    },
    "scrolled": true
   },
   "outputs": [],
   "source": [
    "class Network(object):\n",
    "    def __init__(self, num_of_weights):\n",
    "        # 随机产生w的初始值\n",
    "        # 为了保持程序每次运行结果的一致性，此处设置固定的随机数种子\n",
    "        np.random.seed(0)\n",
    "        self.w = np.random.randn(num_of_weights, 1)\n",
    "        self.b = 0.\n",
    "        \n",
    "    def forward(self, x):\n",
    "        z = np.dot(x, self.w) + self.b\n",
    "        return z\n",
    "    \n",
    "    def loss(self, z, y):\n",
    "        error = z - y\n",
    "        num_samples = error.shape[0]\n",
    "        cost = error * error\n",
    "        cost = np.sum(cost) / num_samples\n",
    "        return cost\n",
    "    \n",
    "    def gradient(self, x, y):\n",
    "        z = self.forward(x)\n",
    "        gradient_w = (z-y)*x\n",
    "        gradient_w = np.mean(gradient_w, axis=0)\n",
    "        gradient_w = gradient_w[:, np.newaxis]\n",
    "        gradient_b = (z - y)\n",
    "        gradient_b = np.mean(gradient_b)\n",
    "        \n",
    "        return gradient_w, gradient_b"
   ]
  },
  {
   "cell_type": "code",
   "execution_count": 58,
   "id": "d71b204f-20cf-4c6f-ae22-5d6717c0be92",
   "metadata": {
    "execution": {
     "iopub.execute_input": "2023-06-09T10:13:28.034905Z",
     "iopub.status.busy": "2023-06-09T10:13:28.034578Z",
     "iopub.status.idle": "2023-06-09T10:13:28.043720Z",
     "shell.execute_reply": "2023-06-09T10:13:28.042542Z",
     "shell.execute_reply.started": "2023-06-09T10:13:28.034862Z"
    },
    "scrolled": true
   },
   "outputs": [
    {
     "name": "stdout",
     "output_type": "stream",
     "text": [
      "point [-100.0, -100.0], loss 8121.988947897571\r\n",
      "gradient [-46.06364867494979, -37.882513042385476]\r\n"
     ]
    }
   ],
   "source": [
    "# 调用上面定义的gradient函数，计算梯度\n",
    "# 初始化网络\n",
    "net = Network(13)\n",
    "# 设置\n",
    "net.w[5] = -100\n",
    "net.w[9] = -100\n",
    "z = net.forward(x)\n",
    "loss = net.loss(z,y)\n",
    "gradient_w, gradient_b = net.gradient(x, y)\n",
    "gradient_w5 = gradient_w[5][0]\n",
    "gradient_w9 = gradient_w[9][0]\n",
    "print('point {}, loss {}'.format([net.w[5][0], net.w[9][0]], loss))\n",
    "print('gradient {}'.format([gradient_w5, gradient_w9]))\n",
    "\n",
    "\n"
   ]
  },
  {
   "cell_type": "code",
   "execution_count": 59,
   "id": "a2258236-da6e-41cd-af21-fea3c688c549",
   "metadata": {
    "execution": {
     "iopub.execute_input": "2023-06-09T10:13:28.045789Z",
     "iopub.status.busy": "2023-06-09T10:13:28.045099Z",
     "iopub.status.idle": "2023-06-09T10:13:28.055267Z",
     "shell.execute_reply": "2023-06-09T10:13:28.054045Z",
     "shell.execute_reply.started": "2023-06-09T10:13:28.045757Z"
    },
    "scrolled": true
   },
   "outputs": [
    {
     "name": "stdout",
     "output_type": "stream",
     "text": [
      "loss7426.203029761636\r\n",
      "point [-95.39363513250503, -96.21174869576146], loss 7426.203029761636\r\n",
      "gradient [-44.016787256804335, -36.25263276936281]\r\n"
     ]
    }
   ],
   "source": [
    "# 自己写一个梯度下降\n",
    "lr = 0.1\n",
    "net.w[5] = net.w[5] - lr * gradient_w5\n",
    "net.w[9] = net.w[9] - lr * gradient_w9\n",
    " \n",
    "# 然后是重新驯良\n",
    "z = net.forward(x)\n",
    "loss = net.loss(z, y)\n",
    "print(f'loss{loss}')\n",
    "# 继续计算梯度\n",
    "gradient_w, gradient_b = net.gradient(x, y)\n",
    "gradient_w5 = gradient_w[5][0]\n",
    "gradient_w9 = gradient_w[9][0]\n",
    "print('point {}, loss {}'.format([net.w[5][0], net.w[9][0]], loss))\n",
    "print('gradient {}'.format([gradient_w5, gradient_w9]))"
   ]
  },
  {
   "cell_type": "code",
   "execution_count": 60,
   "id": "8920fe31-455e-4d72-a449-4a5c7c77004a",
   "metadata": {
    "execution": {
     "iopub.execute_input": "2023-06-09T10:13:28.057069Z",
     "iopub.status.busy": "2023-06-09T10:13:28.056611Z",
     "iopub.status.idle": "2023-06-09T10:13:28.069059Z",
     "shell.execute_reply": "2023-06-09T10:13:28.067931Z",
     "shell.execute_reply.started": "2023-06-09T10:13:28.057037Z"
    },
    "scrolled": true,
    "tags": []
   },
   "outputs": [],
   "source": [
    "class Network(object):\n",
    "    def __init__(self, num_of_weights):\n",
    "        # 随机产生w的初始值\n",
    "        # 为了保持程序每次运行结果的一致性，此处设置固定的随机数种子\n",
    "        np.random.seed(0)\n",
    "        self.w = np.random.randn(num_of_weights,1)\n",
    "        self.b = 0.\n",
    "        \n",
    "    def forward(self, x):\n",
    "        z = np.dot(x, self.w) + self.b\n",
    "        return z\n",
    "    \n",
    "    def loss(self, z, y):\n",
    "        error = z - y\n",
    "        num_samples = error.shape[0]\n",
    "        cost = error * error\n",
    "        cost = np.sum(cost) / num_samples\n",
    "        return cost\n",
    "    \n",
    "    def gradient(self, x, y):\n",
    "        z = self.forward(x)\n",
    "        gradient_w = (z-y)*x\n",
    "        gradient_w = np.mean(gradient_w, axis=0)\n",
    "        gradient_w = gradient_w[:, np.newaxis]\n",
    "        gradient_b = (z - y)\n",
    "        gradient_b = np.mean(gradient_b)        \n",
    "        return gradient_w, gradient_b\n",
    "    \n",
    "    def update(self, gradient_w, gradient_b, lr=0.01):\n",
    "        self.w = self.w - lr * gradient_w\n",
    "        self.b = self.b - lr * gradient_b\n",
    "\n",
    "\n",
    "    # 训练\n",
    "    def train(self, x, y, epoch=100, lr=0.01):\n",
    "        losses = []\n",
    "        for i in range(epoch):\n",
    "            z = self.forward(x)\n",
    "            L = self.loss(z,y)\n",
    "            gradient_w, gradient_b = self.gradient(x, y)\n",
    "            self.update(gradient_w, gradient_b, lr)\n",
    "            losses.append(L)\n",
    "            if (i+1) % 10 == 0:\n",
    "                    print('iter {}, loss {}'.format(i, L))\n",
    "        return losses\n",
    "\n"
   ]
  },
  {
   "cell_type": "code",
   "execution_count": 61,
   "id": "85c76fe3-1918-4513-9b95-4578a767cb53",
   "metadata": {
    "execution": {
     "iopub.execute_input": "2023-06-09T10:13:28.071044Z",
     "iopub.status.busy": "2023-06-09T10:13:28.070432Z",
     "iopub.status.idle": "2023-06-09T10:13:28.313172Z",
     "shell.execute_reply": "2023-06-09T10:13:28.312022Z",
     "shell.execute_reply.started": "2023-06-09T10:13:28.071010Z"
    },
    "scrolled": true,
    "tags": []
   },
   "outputs": [
    {
     "name": "stdout",
     "output_type": "stream",
     "text": [
      "iter 9, loss 5.261608230668358\r\n",
      "iter 19, loss 3.131868721055577\r\n",
      "iter 29, loss 2.0846641650436615\r\n",
      "iter 39, loss 1.5590558585598193\r\n",
      "iter 49, loss 1.285336298689735\r\n",
      "iter 59, loss 1.1337942758117876\r\n",
      "iter 69, loss 1.0420173187573072\r\n",
      "iter 79, loss 0.9799463878912065\r\n",
      "iter 89, loss 0.9330777636245696\r\n",
      "iter 99, loss 0.8943881483409306\r\n"
     ]
    },
    {
     "data": {
      "image/png": "[encoded data removed]",
      "text/plain": [
       "<Figure size 640x480 with 1 Axes>"
      ]
     },
     "metadata": {},
     "output_type": "display_data"
    }
   ],
   "source": [
    "train_data, test_data = load_data()\n",
    "x = train_data[:, :-1]\n",
    "y = train_data[:, -1:]\n",
    "# 创建网络\n",
    "net = Network(13)\n",
    "num_epochs = 100\n",
    "losses = net.train(x, y, epoch = num_epochs, lr =0.01)\n",
    "# 画出损失函数的变化趋势\n",
    "import matplotlib.pyplot as plt\n",
    "from mpl_toolkits.mplot3d import Axes3D\n",
    "%matplotlib inline\n",
    "plot_x = np.arange(num_epochs)\n",
    "plot_y = np.array(losses)\n",
    "plt.plot(plot_x, plot_y)\n",
    "plt.show()\n"
   ]
  },
  {
   "attachments": {},
   "cell_type": "markdown",
   "id": "71d46e2b-70f4-4c89-9905-9f93936fa09b",
   "metadata": {},
   "source": [
    "## 随机梯度下降\n",
    "我的理解就是按照原来的梯度，就是走过了400多组的数据，\n",
    "现在我就是小样本\n"
   ]
  },
  {
   "cell_type": "code",
   "execution_count": 62,
   "id": "0a1464ed-6bc6-430f-914b-4473a037afc5",
   "metadata": {
    "execution": {
     "iopub.execute_input": "2023-06-09T10:13:28.315095Z",
     "iopub.status.busy": "2023-06-09T10:13:28.314677Z",
     "iopub.status.idle": "2023-06-09T10:13:28.327039Z",
     "shell.execute_reply": "2023-06-09T10:13:28.326057Z",
     "shell.execute_reply.started": "2023-06-09T10:13:28.315054Z"
    },
    "scrolled": true,
    "tags": []
   },
   "outputs": [
    {
     "data": {
      "text/plain": [
       "(414, 14)"
      ]
     },
     "execution_count": 62,
     "metadata": {},
     "output_type": "execute_result"
    }
   ],
   "source": [
    "# 获取数据\n",
    "training_data, test_data = load_data()\n",
    "training_data.shape"
   ]
  },
  {
   "cell_type": "code",
   "execution_count": 63,
   "id": "d7f2e832-cd12-48ff-8681-785addc5f7db",
   "metadata": {
    "execution": {
     "iopub.execute_input": "2023-06-09T10:13:28.328776Z",
     "iopub.status.busy": "2023-06-09T10:13:28.328351Z",
     "iopub.status.idle": "2023-06-09T10:13:28.334416Z",
     "shell.execute_reply": "2023-06-09T10:13:28.333474Z",
     "shell.execute_reply.started": "2023-06-09T10:13:28.328748Z"
    },
    "scrolled": true,
    "tags": []
   },
   "outputs": [
    {
     "data": {
      "text/plain": [
       "(414, 14)"
      ]
     },
     "execution_count": 63,
     "metadata": {},
     "output_type": "execute_result"
    }
   ],
   "source": [
    "train_data1 = training_data[0:10]\n",
    "training_data.shape"
   ]
  },
  {
   "cell_type": "code",
   "execution_count": 64,
   "id": "b865fa83-c071-493b-86e5-11299ca2f0cd",
   "metadata": {
    "execution": {
     "iopub.execute_input": "2023-06-09T10:13:28.336217Z",
     "iopub.status.busy": "2023-06-09T10:13:28.335603Z",
     "iopub.status.idle": "2023-06-09T10:13:28.398661Z",
     "shell.execute_reply": "2023-06-09T10:13:28.397620Z",
     "shell.execute_reply.started": "2023-06-09T10:13:28.336187Z"
    },
    "scrolled": true,
    "tags": []
   },
   "outputs": [
    {
     "name": "stdout",
     "output_type": "stream",
     "text": [
      "iter 9, loss 2.6331388542913308\r\n"
     ]
    },
    {
     "data": {
      "text/plain": [
       "[4.509171660087307,\n",
       " 4.2396814158301215,\n",
       " 3.9879327981391954,\n",
       " 3.752753653906569,\n",
       " 3.533049281775715,\n",
       " 3.327797314378464,\n",
       " 3.1360429387373334,\n",
       " 2.9568944324883786,\n",
       " 2.789518995056159,\n",
       " 2.6331388542913308]"
      ]
     },
     "execution_count": 64,
     "metadata": {},
     "output_type": "execute_result"
    }
   ],
   "source": [
    "x = train_data1[:,:-1]\n",
    "y = train_data1[:,-1:]\n",
    "net = Network(13)\n",
    "loss = net.train(x, y, epoch = 10, lr = 0.01)\n",
    "loss"
   ]
  },
  {
   "cell_type": "code",
   "execution_count": 65,
   "id": "58ce7bd4-2b4b-40a4-b8d9-bc783cccc92b",
   "metadata": {
    "execution": {
     "iopub.execute_input": "2023-06-09T10:13:28.400577Z",
     "iopub.status.busy": "2023-06-09T10:13:28.400088Z",
     "iopub.status.idle": "2023-06-09T10:13:28.416324Z",
     "shell.execute_reply": "2023-06-09T10:13:28.415269Z",
     "shell.execute_reply.started": "2023-06-09T10:13:28.400544Z"
    },
    "scrolled": true,
    "tags": []
   },
   "outputs": [],
   "source": [
    "# 获取数据\n",
    "train_data, test_data = load_data()\n",
    "\n",
    "# 打乱样本顺序\n",
    "np.random.shuffle(train_data)\n",
    "\n",
    "# 将train_data分成多个minibatch\n",
    "batch_size = 10\n",
    "n = len(train_data)\n",
    "mini_batches = [train_data[k:k+batch_size] for k in range(0, n, batch_size)]\n",
    "\n",
    "# 创建网络\n",
    "net = Network(13)\n",
    "\n",
    "# 依次使用每个mini_batch的数据\n",
    "for mini_batch in mini_batches:\n",
    "    x = mini_batch[:, :-1]\n",
    "    y = mini_batch[:, -1:]\n",
    "    loss = net.train(x, y, epoch=1)"
   ]
  },
  {
   "cell_type": "code",
   "execution_count": 84,
   "id": "17b11615-8877-4fba-98c2-3eb2dcf323fc",
   "metadata": {
    "execution": {
     "iopub.execute_input": "2023-06-09T10:28:24.705592Z",
     "iopub.status.busy": "2023-06-09T10:28:24.704448Z",
     "iopub.status.idle": "2023-06-09T10:28:25.094886Z",
     "shell.execute_reply": "2023-06-09T10:28:25.093596Z",
     "shell.execute_reply.started": "2023-06-09T10:28:24.705555Z"
    },
    "scrolled": true,
    "tags": []
   },
   "outputs": [
    {
     "name": "stdout",
     "output_type": "stream",
     "text": [
      "(13, 1) -0.00734393078964766\r\n",
      "(13, 1) -0.01503978705941207\r\n",
      "(13, 1) -0.02198734841740064\r\n",
      "(13, 1) -0.027612392422133772\r\n",
      "(13, 1) -0.030951714549243413\r\n",
      "(13, 1) -0.036234663040658956\r\n",
      "(13, 1) -0.04187518354304533\r\n",
      "(13, 1) -0.04789340196438472\r\n",
      "(13, 1) -0.05377134886239507\r\n",
      "(13, 1) -0.06137558936625145\r\n",
      "(13, 1) -0.06601183586094918\r\n",
      "(13, 1) -0.07126524024751746\r\n",
      "(13, 1) -0.07543786930186244\r\n",
      "(13, 1) -0.08041057883106599\r\n",
      "(13, 1) -0.08373069146500882\r\n",
      "(13, 1) -0.08815784493302921\r\n",
      "(13, 1) -0.09255428433927367\r\n",
      "(13, 1) -0.0957178662252167\r\n",
      "(13, 1) -0.09940313468720299\r\n",
      "(13, 1) -0.10375652703923578\r\n",
      "(13, 1) -0.10758450263102805\r\n",
      "(13, 1) -0.11056418388070041\r\n",
      "(13, 1) -0.11445189610016325\r\n",
      "(13, 1) -0.11687100225780525\r\n",
      "(13, 1) -0.11929227298719904\r\n",
      "(13, 1) -0.12168236393149258\r\n",
      "(13, 1) -0.12389863085307348\r\n",
      "(13, 1) -0.1272617419043652\r\n",
      "(13, 1) -0.13002529391225737\r\n",
      "(13, 1) -0.13466574905709622\r\n",
      "(13, 1) -0.13711466084582138\r\n",
      "(13, 1) -0.13918641965975076\r\n",
      "(13, 1) -0.1403253870033293\r\n",
      "(13, 1) -0.14326231740474912\r\n",
      "(13, 1) -0.14707522504094675\r\n",
      "(13, 1) -0.14849279892592498\r\n",
      "(13, 1) -0.15055163888076287\r\n",
      "(13, 1) -0.15176748584742542\r\n",
      "(13, 1) -0.15415703920876167\r\n",
      "(13, 1) -0.1563237378803468\r\n",
      "(13, 1) -0.15752973007581772\r\n",
      "(13, 1) -0.1592492744689041\r\n",
      "(13, 1) -0.16099838545280235\r\n",
      "(13, 1) -0.1622173933066741\r\n",
      "(13, 1) -0.16330711821511434\r\n",
      "(13, 1) -0.16457705127760183\r\n",
      "(13, 1) -0.16526827995273216\r\n",
      "(13, 1) -0.16641030506241597\r\n",
      "(13, 1) -0.16808245068267655\r\n",
      "(13, 1) -0.17052857535140098\r\n",
      "(13, 1) -0.17133134278457804\r\n",
      "(13, 1) -0.1729375287729389\r\n",
      "(13, 1) -0.17287904946242313\r\n",
      "(13, 1) -0.17421739550493137\r\n",
      "(13, 1) -0.17704785753272317\r\n",
      "(13, 1) -0.17851584024249464\r\n",
      "(13, 1) -0.17890488352649686\r\n",
      "(13, 1) -0.1797212862905665\r\n",
      "(13, 1) -0.1800946158869103\r\n",
      "(13, 1) -0.18054817408298846\r\n",
      "(13, 1) -0.1812007865888208\r\n",
      "(13, 1) -0.18175857670182471\r\n",
      "(13, 1) -0.18174400593104884\r\n",
      "(13, 1) -0.1825979394190137\r\n",
      "(13, 1) -0.18723129343151612\r\n",
      "(13, 1) -0.18809665580198628\r\n",
      "(13, 1) -0.18888800769801042\r\n",
      "(13, 1) -0.1889828712706974\r\n",
      "(13, 1) -0.18915675839188387\r\n",
      "(13, 1) -0.1876978397263568\r\n",
      "(13, 1) -0.18823794434891267\r\n",
      "(13, 1) -0.18912872369505354\r\n",
      "(13, 1) -0.18953565037421594\r\n",
      "(13, 1) -0.1893854526632204\r\n",
      "(13, 1) -0.18946558269980548\r\n",
      "(13, 1) -0.19017313091131063\r\n",
      "(13, 1) -0.19059619591936802\r\n",
      "(13, 1) -0.19033464746703826\r\n",
      "(13, 1) -0.19071629044568644\r\n",
      "(13, 1) -0.19244680634460085\r\n",
      "(13, 1) -0.1926868175862624\r\n",
      "(13, 1) -0.19367313635918204\r\n",
      "(13, 1) -0.1937389317603666\r\n",
      "(13, 1) -0.1937425178836141\r\n",
      "(13, 1) -0.19207804922164778\r\n",
      "(13, 1) -0.1932108551956645\r\n",
      "(13, 1) -0.19289436944357377\r\n",
      "(13, 1) -0.19327928058485114\r\n",
      "(13, 1) -0.19349422872230526\r\n",
      "(13, 1) -0.1914722431495989\r\n",
      "(13, 1) -0.19197640166254887\r\n",
      "(13, 1) -0.19301126333168142\r\n",
      "(13, 1) -0.19198474872450735\r\n",
      "(13, 1) -0.1925511157734365\r\n",
      "(13, 1) -0.1933007373860542\r\n",
      "(13, 1) -0.19333091026217122\r\n",
      "(13, 1) -0.19375273224260592\r\n",
      "(13, 1) -0.19390749703697946\r\n",
      "(13, 1) -0.19407623104692936\r\n",
      "(13, 1) -0.19574784714965884\r\n",
      "(13, 1) -0.19541815716020672\r\n",
      "(13, 1) -0.19477292025804316\r\n",
      "(13, 1) -0.1948247157219825\r\n",
      "(13, 1) -0.19646694837348283\r\n",
      "(13, 1) -0.19672971404859985\r\n",
      "(13, 1) -0.19722614420805407\r\n",
      "(13, 1) -0.1965790507172903\r\n",
      "(13, 1) -0.1975858277575787\r\n",
      "(13, 1) -0.19743572716698077\r\n",
      "(13, 1) -0.19612022640103233\r\n",
      "(13, 1) -0.19656563477173378\r\n",
      "(13, 1) -0.1967784831533816\r\n",
      "(13, 1) -0.19649754268181338\r\n",
      "(13, 1) -0.1965835750136396\r\n",
      "(13, 1) -0.19765554482557307\r\n",
      "(13, 1) -0.1973991845944329\r\n",
      "(13, 1) -0.19793199152793917\r\n",
      "(13, 1) -0.19693988846822746\r\n",
      "(13, 1) -0.1977046425537787\r\n",
      "(13, 1) -0.20085311715803583\r\n",
      "(13, 1) -0.20089554879569874\r\n",
      "(13, 1) -0.2005493604561074\r\n",
      "(13, 1) -0.2010797684872212\r\n",
      "(13, 1) -0.20097707983661658\r\n",
      "(13, 1) -0.2001156077722499\r\n",
      "(13, 1) -0.19942813699517895\r\n",
      "(13, 1) -0.200294667296157\r\n",
      "(13, 1) -0.20047500441408378\r\n",
      "(13, 1) -0.20022406156976083\r\n",
      "(13, 1) -0.2006617654436245\r\n",
      "(13, 1) -0.20031477301508724\r\n",
      "(13, 1) -0.20042663835120483\r\n",
      "(13, 1) -0.20056197336574755\r\n",
      "(13, 1) -0.2010338206235016\r\n",
      "(13, 1) -0.1991243446317617\r\n",
      "(13, 1) -0.19852157409942608\r\n",
      "(13, 1) -0.198773158746964\r\n",
      "(13, 1) -0.19891365897828023\r\n",
      "(13, 1) -0.19942478522650706\r\n",
      "(13, 1) -0.19979325825756292\r\n",
      "(13, 1) -0.2001439249349919\r\n",
      "(13, 1) -0.20021781654975238\r\n",
      "(13, 1) -0.1998833078093935\r\n",
      "(13, 1) -0.19966229473696273\r\n",
      "(13, 1) -0.20221792139719344\r\n",
      "(13, 1) -0.20227126333480266\r\n",
      "(13, 1) -0.20193248932192007\r\n",
      "(13, 1) -0.20101133611286254\r\n",
      "(13, 1) -0.2018799111053088\r\n",
      "(13, 1) -0.2043241041026384\r\n",
      "(13, 1) -0.20407632109161838\r\n",
      "(13, 1) -0.20340465227114785\r\n",
      "(13, 1) -0.2031121928064741\r\n",
      "(13, 1) -0.20409078342818046\r\n",
      "(13, 1) -0.20382479011698218\r\n",
      "(13, 1) -0.203208232430438\r\n",
      "(13, 1) -0.2037281137750405\r\n",
      "(13, 1) -0.20344306564966919\r\n",
      "(13, 1) -0.20380114987513614\r\n",
      "(13, 1) -0.20250072831140387\r\n",
      "(13, 1) -0.20366064805436254\r\n",
      "(13, 1) -0.20490263813495338\r\n",
      "(13, 1) -0.203723224467521\r\n",
      "(13, 1) -0.20213075012745652\r\n",
      "(13, 1) -0.203340722492556\r\n",
      "(13, 1) -0.20349101753664178\r\n",
      "(13, 1) -0.20372815315423942\r\n",
      "(13, 1) -0.20350978748140952\r\n",
      "(13, 1) -0.20342233626786296\r\n",
      "(13, 1) -0.20166136762500467\r\n",
      "(13, 1) -0.20056057307071182\r\n",
      "(13, 1) -0.2008190804746575\r\n",
      "(13, 1) -0.20073040437782422\r\n",
      "(13, 1) -0.2014746946716417\r\n",
      "(13, 1) -0.20463831872784527\r\n",
      "(13, 1) -0.2047668503756811\r\n",
      "(13, 1) -0.20523568408156717\r\n",
      "(13, 1) -0.20485197843385655\r\n",
      "(13, 1) -0.2039226381974105\r\n",
      "(13, 1) -0.2068734103147686\r\n",
      "(13, 1) -0.2062894655374336\r\n",
      "(13, 1) -0.20603523721131273\r\n",
      "(13, 1) -0.20585753453531258\r\n",
      "(13, 1) -0.20613764422392658\r\n",
      "(13, 1) -0.20789812232029492\r\n",
      "(13, 1) -0.20835033558359786\r\n",
      "(13, 1) -0.20830492686617919\r\n",
      "(13, 1) -0.20738397493259275\r\n",
      "(13, 1) -0.207079753982268\r\n",
      "(13, 1) -0.2077132919751627\r\n",
      "(13, 1) -0.20770580294869356\r\n",
      "(13, 1) -0.20765885512080198\r\n",
      "(13, 1) -0.20774473130871346\r\n",
      "(13, 1) -0.2069236463501645\r\n",
      "(13, 1) -0.2078964722857795\r\n",
      "(13, 1) -0.20631886138545122\r\n",
      "(13, 1) -0.2070035947731547\r\n",
      "(13, 1) -0.20731546181947247\r\n",
      "(13, 1) -0.20756031338961492\r\n",
      "(13, 1) -0.20615574685809218\r\n",
      "(13, 1) -0.20647541980770387\r\n",
      "(13, 1) -0.2060275162660661\r\n",
      "(13, 1) -0.20555769936592438\r\n",
      "(13, 1) -0.20576496917085216\r\n",
      "(13, 1) -0.20606692439871227\r\n",
      "(13, 1) -0.2063788003494023\r\n",
      "(13, 1) -0.20659139938814688\r\n",
      "(13, 1) -0.20574202885987286\r\n",
      "(13, 1) -0.20547970923072675\r\n",
      "(13, 1) -0.2072459551937798\r\n",
      "(13, 1) -0.2067557734124705\r\n",
      "(13, 1) -0.2067758388234839\r\n",
      "(13, 1) -0.20692666560394213\r\n",
      "(13, 1) -0.20664319936833617\r\n",
      "(13, 1) -0.20805898984076632\r\n",
      "(13, 1) -0.20827193041085942\r\n",
      "(13, 1) -0.20701693165447527\r\n",
      "(13, 1) -0.20788509556973364\r\n",
      "(13, 1) -0.20738994265081356\r\n",
      "(13, 1) -0.208481638641014\r\n",
      "(13, 1) -0.20860020767464804\r\n",
      "(13, 1) -0.20825848767078595\r\n",
      "(13, 1) -0.2088285592190604\r\n",
      "(13, 1) -0.20777314677667505\r\n",
      "(13, 1) -0.2087719807554743\r\n",
      "(13, 1) -0.2078741271554185\r\n",
      "(13, 1) -0.20784599006500784\r\n",
      "(13, 1) -0.20857149739222777\r\n",
      "(13, 1) -0.20841661423687163\r\n",
      "(13, 1) -0.20709782304773022\r\n",
      "(13, 1) -0.2067195282132178\r\n",
      "(13, 1) -0.2062343435817873\r\n",
      "(13, 1) -0.20625472612220513\r\n",
      "(13, 1) -0.20689090662629894\r\n",
      "(13, 1) -0.20638638272544552\r\n",
      "(13, 1) -0.20632870574050205\r\n",
      "(13, 1) -0.2054907401657131\r\n",
      "(13, 1) -0.20559346496670652\r\n",
      "(13, 1) -0.2061487605593015\r\n",
      "(13, 1) -0.20652826454176487\r\n",
      "(13, 1) -0.20553748995394874\r\n",
      "(13, 1) -0.20609297946560684\r\n",
      "(13, 1) -0.20653586161793452\r\n",
      "(13, 1) -0.20621372327287948\r\n",
      "(13, 1) -0.20738262093414825\r\n",
      "(13, 1) -0.2072012828387059\r\n",
      "(13, 1) -0.20747135073194273\r\n",
      "(13, 1) -0.20773652985959382\r\n",
      "(13, 1) -0.2067569351002614\r\n",
      "(13, 1) -0.20868953298208343\r\n"
     ]
    },
    {
     "data": {
      "image/png": "[encoded data removed]",
      "text/plain": [
       "<Figure size 640x480 with 1 Axes>"
      ]
     },
     "metadata": {},
     "output_type": "display_data"
    }
   ],
   "source": [
    "import numpy as np\n",
    "\n",
    "class Network(object):\n",
    "    def __init__(self, num_of_weights):\n",
    "        # 随机产生w的初始值\n",
    "        # 为了保持程序每次运行结果的一致性，此处设置固定的随机数种子\n",
    "        #np.random.seed(0)\n",
    "        self.w = np.random.randn(num_of_weights, 1)\n",
    "        self.b = 0.\n",
    "        \n",
    "    def forward(self, x):\n",
    "        z = np.dot(x, self.w) + self.b\n",
    "        return z\n",
    "    \n",
    "    def loss(self, z, y):\n",
    "        error = z - y\n",
    "        num_samples = error.shape[0]\n",
    "        cost = error * error\n",
    "        cost = np.sum(cost) / num_samples\n",
    "        return cost\n",
    "    \n",
    "    def gradient(self, x, y):\n",
    "        z = self.forward(x)\n",
    "        N = x.shape[0]\n",
    "        gradient_w = 1. / N * np.sum((z-y) * x, axis=0)\n",
    "        gradient_w = gradient_w[:, np.newaxis]\n",
    "        gradient_b = 1. / N * np.sum(z-y)\n",
    "        return gradient_w, gradient_b\n",
    "    \n",
    "    def update(self, gradient_w, gradient_b, eta = 0.01):\n",
    "        self.w = self.w - eta * gradient_w\n",
    "        self.b = self.b - eta * gradient_b\n",
    "        print(self.w.shape, self.b)\n",
    "            \n",
    "                \n",
    "    def train(self, training_data, num_epochs, batch_size=10, eta=0.01):\n",
    "        n = len(training_data)\n",
    "        losses = []\n",
    "        for epoch_id in range(num_epochs):\n",
    "            # 在每轮迭代开始之前，将训练数据的顺序随机打乱\n",
    "            # 然后再按每次取batch_size条数据的方式取出\n",
    "            np.random.shuffle(training_data)\n",
    "            # 将训练数据进行拆分，每个mini_batch包含batch_size条的数据\n",
    "            mini_batches = [training_data[k:k+batch_size] for k in range(0, n, batch_size)]\n",
    "            for iter_id, mini_batch in enumerate(mini_batches):\n",
    "                #print(self.w.shape)\n",
    "                #print(self.b)\n",
    "                x = mini_batch[:, :-1]\n",
    "                y = mini_batch[:, -1:]\n",
    "                a = self.forward(x)\n",
    "                loss = self.loss(a, y)\n",
    "                gradient_w, gradient_b = self.gradient(x, y)\n",
    "                self.update(gradient_w, gradient_b, eta)\n",
    "                losses.append(loss)\n",
    "                # print('Epoch {:3d} / iter {:3d}, loss = {:.4f}'.\n",
    "                #                  format(epoch_id, iter_id, loss))\n",
    "        \n",
    "        return losses\n",
    "\n",
    "# 获取数据\n",
    "train_data, test_data = load_data()\n",
    "\n",
    "# 创建网络\n",
    "net = Network(13)\n",
    "# 启动训练\n",
    "losses = net.train(train_data, num_epochs=50, batch_size=100, eta=0.01)\n",
    "\n",
    "# 画出损失函数的变化趋势\n",
    "plot_x = np.arange(len(losses))\n",
    "plot_y = np.array(losses)\n",
    "plt.plot(plot_x, plot_y)\n",
    "plt.show()"
   ]
  },
  {
   "cell_type": "code",
   "execution_count": 87,
   "id": "3877b554-4920-4211-b08b-9ae98503d1be",
   "metadata": {
    "execution": {
     "iopub.execute_input": "2023-06-09T10:28:52.182817Z",
     "iopub.status.busy": "2023-06-09T10:28:52.182275Z",
     "iopub.status.idle": "2023-06-09T10:28:52.494114Z",
     "shell.execute_reply": "2023-06-09T10:28:52.493206Z",
     "shell.execute_reply.started": "2023-06-09T10:28:52.182785Z"
    },
    "scrolled": true,
    "tags": []
   },
   "outputs": [
    {
     "name": "stdout",
     "output_type": "stream",
     "text": [
      "[[0.00000000e+00 1.80000000e-01 7.34418420e-02 ... 1.00000000e+00\r\n",
      "  8.96799117e-02 4.22222222e-01]\r\n",
      " [2.35922539e-04 0.00000000e+00 2.62405717e-01 ... 1.00000000e+00\r\n",
      "  2.04470199e-01 3.68888889e-01]\r\n",
      " [2.35697744e-04 0.00000000e+00 2.62405717e-01 ... 9.89677910e-01\r\n",
      "  6.34657837e-02 6.60000000e-01]\r\n",
      " ...\r\n",
      " [1.57855445e-01 0.00000000e+00 7.00277888e-01 ... 8.22977428e-02\r\n",
      "  5.37803532e-01 2.71111111e-01]\r\n",
      " [2.11360069e-01 0.00000000e+00 7.00277888e-01 ... 6.64215065e-02\r\n",
      "  9.00662252e-01 2.86666667e-01]\r\n",
      " [3.22013248e-01 0.00000000e+00 7.00277888e-01 ... 5.28455491e-01\r\n",
      "  5.06346578e-01 2.51111111e-01]]\r\n"
     ]
    },
    {
     "data": {
      "image/png": "[encoded data removed]",
      "text/plain": [
       "<Figure size 640x480 with 1 Axes>"
      ]
     },
     "metadata": {},
     "output_type": "display_data"
    }
   ],
   "source": [
    "import numpy as np\n",
    "\n",
    "class Network2(object): # 两层神经网络\n",
    "    def __init__(self, num_of_inputs, num_of_hidden, num_of_outputs):\n",
    "        # 初始化，如果是要两层的话\n",
    "        self.w1 = np.random.randn(num_of_inputs,num_of_hidden) # 13*13\n",
    "        self.b1 = np.zeros(num_of_hidden)\n",
    "        self.w2 = np.random.randn(num_of_hidden,num_of_outputs)\n",
    "        self.b2 = 0.\n",
    "    \n",
    "    def forward(self, x):\n",
    "        # 前向就是xvw+b\n",
    "        self.z1 = np.dot(x, self.w1) + self.b1\n",
    "        self.a1 = np.tanh(self.z1)\n",
    "        self.z2 = np.dot(self.a1, self.w2) +self.b2\n",
    "        return self.z2\n",
    "\n",
    "    \n",
    "    def loss(self, z, y):\n",
    "        error = z - y\n",
    "        num_samples = error.shape[0]\n",
    "        cost = error * error\n",
    "        cost = np.sum(cost) / num_samples\n",
    "        return cost\n",
    "    \n",
    "    def gradient(self, x, y):\n",
    "        thea2 = self.z2 - y # 这一行是原来那个底下的\n",
    "        gradient_w2 = np.dot(self.a1.T,thea2)\n",
    "        gradient_b2 = np.sum(thea2,axis=0)\n",
    "        # 这里梯度要经过一个逆向求解\n",
    "        thea1 = np.dot(thea2, self.w2.T) * (1 - np.power(self.a1, 2))\n",
    "        gradient_w1 = np.dot(x.T, thea1)\n",
    "        gradient_b1 = np.sum(thea1,axis=0)\n",
    "        return gradient_w1, gradient_b1, gradient_w2, gradient_b2\n",
    "    \n",
    "    \n",
    "    def update(self, gradient_w1, gradient_b1,gradient_w2, gradient_b2, eta = 0.01):\n",
    "        \n",
    "        self.w1 = self.w1 - eta * gradient_w1\n",
    "        self.b1 = self.b1 - eta * gradient_b1\n",
    "        \n",
    "            \n",
    "    def train(self, training_data, num_epochs, batch_size=10, eta=0.01):\n",
    "        n = len(training_data)\n",
    "        losses = []\n",
    "        for epoch_id in range(num_epochs):\n",
    "            np.random.shuffle(training_data)\n",
    "            mini_batches = [training_data[k:k+batch_size] for k in range(0, n, batch_size)]\n",
    "            for iter_id, mini_batch in enumerate(mini_batches):\n",
    "                X = mini_batch[:, :-1]\n",
    "                y = mini_batch[:, -1:]\n",
    "                z = self.forward(X)\n",
    "                loss = self.loss(z, y)\n",
    "                gradient_w1, gradient_b1, gradient_w2, gradient_b2 = self.gradient(X, y)\n",
    "                self.update(gradient_w1, gradient_b1, gradient_w2, gradient_b2, eta)\n",
    "                losses.append(loss)\n",
    "                #print('Epoch {:3d} / iter {:3d}, loss = {:.4f}'.\n",
    "                                    #format(epoch_id, iter_id, loss))\n",
    "        return losses\n",
    "\n",
    "\n",
    "# 获取数据\n",
    "train_data, test_data = load_data()\n",
    "\n",
    "print(train_data)\n",
    "# 创建网络\n",
    "net = Network2(13,13,1)\n",
    "# 启动训练\n",
    "losses = net.train(train_data, num_epochs=50, batch_size=100, eta=0.001)\n",
    "\n",
    "# 画出损失函数的变化趋势\n",
    "plot_x = np.arange(len(losses))\n",
    "plot_y = np.array(losses)\n",
    "plt.plot(plot_x, plot_y)\n",
    "plt.show()"
   ]
  },
  {
   "cell_type": "code",
   "execution_count": 73,
   "id": "f7bac667-3d63-4a76-a4d3-a08f67e7d3b4",
   "metadata": {
    "execution": {
     "iopub.execute_input": "2023-06-09T10:21:22.095035Z",
     "iopub.status.busy": "2023-06-09T10:21:22.094203Z",
     "iopub.status.idle": "2023-06-09T10:21:22.442025Z",
     "shell.execute_reply": "2023-06-09T10:21:22.441013Z",
     "shell.execute_reply.started": "2023-06-09T10:21:22.094998Z"
    },
    "scrolled": true
   },
   "outputs": [
    {
     "data": {
      "image/png": "[encoded data removed]",
      "text/plain": [
       "<Figure size 640x480 with 1 Axes>"
      ]
     },
     "metadata": {},
     "output_type": "display_data"
    }
   ],
   "source": [
    "import numpy as np\n",
    "\n",
    "class TwoLayerNetwork(object):\n",
    "    def __init__(self, num_of_inputs, num_of_hidden, num_of_outputs):\n",
    "        np.random.seed(0)\n",
    "        self.W1 = np.random.randn(num_of_inputs, num_of_hidden)\n",
    "        self.b1 = np.zeros((1, num_of_hidden))\n",
    "        self.W2 = np.random.randn(num_of_hidden, num_of_outputs)\n",
    "        self.b2 = np.zeros((1, num_of_outputs))\n",
    "        \n",
    "    def forward(self, X):\n",
    "        self.z1 = np.dot(X, self.W1) + self.b1\n",
    "        self.a1 = self.sigmoid(self.z1)\n",
    "        self.z2 = np.dot(self.a1, self.W2) + self.b2\n",
    "        self.a2 = self.sigmoid(self.z2)\n",
    "        return self.a2\n",
    "    \n",
    "    def sigmoid(self, x):\n",
    "        return 1 / (1 + np.exp(-x))\n",
    "    \n",
    "    def sigmoid_derivative(self, x):\n",
    "        return self.sigmoid(x) * (1 - self.sigmoid(x))\n",
    "    \n",
    "    def loss(self, y_pred, y_true):\n",
    "        error = y_pred - y_true\n",
    "        num_samples = y_pred.shape[0]\n",
    "        cost = np.sum(error ** 2) / num_samples\n",
    "        return cost\n",
    "    \n",
    "    def gradient(self, X, y_pred, y_true):\n",
    "        m = y_pred.shape[0]\n",
    "        delta2 = (y_pred - y_true) * self.sigmoid_derivative(self.z2)\n",
    "        dW2 = np.dot(self.a1.T, delta2) / m\n",
    "        db2 = np.sum(delta2, axis=0) / m\n",
    "        delta1 = np.dot(delta2, self.W2.T) * self.sigmoid_derivative(self.z1)\n",
    "        dW1 = np.dot(X.T, delta1) / m\n",
    "        db1 = np.sum(delta1, axis=0) / m\n",
    "        return dW1, db1, dW2, db2\n",
    "    \n",
    "    def update(self, dW1, db1, dW2, db2, eta):\n",
    "        self.W1 -= eta * dW1\n",
    "        self.b1 -= eta * db1\n",
    "        self.W2 -= eta * dW2\n",
    "        self.b2 -= eta * db2\n",
    "    \n",
    "    def train(self, X, y, num_epochs, batch_size=10, eta=0.01):\n",
    "        n = len(X)\n",
    "        losses = []\n",
    "        \n",
    "        for epoch_id in range(num_epochs):\n",
    "            np.random.seed(epoch_id)\n",
    "            np.random.shuffle(X)\n",
    "            np.random.seed(epoch_id)\n",
    "            np.random.shuffle(y)\n",
    "            \n",
    "            mini_batches = [X[k:k+batch_size] for k in range(0, n, batch_size)]\n",
    "            mini_batch_labels = [y[k:k+batch_size] for k in range(0, n, batch_size)]\n",
    "            \n",
    "            for mini_batch, mini_batch_label in zip(mini_batches, mini_batch_labels):\n",
    "                y_pred = self.forward(mini_batch)\n",
    "                loss = self.loss(y_pred, mini_batch_label)\n",
    "                dW1, db1, dW2, db2 = self.gradient(mini_batch, y_pred, mini_batch_label)\n",
    "                self.update(dW1, db1, dW2, db2, eta)\n",
    "                losses.append(loss)\n",
    "        \n",
    "        return losses\n",
    "\n",
    "\n",
    "# 获取数据\n",
    "train_data, test_data = load_data()\n",
    "\n",
    "# 创建网络\n",
    "net = TwoLayerNetwork(num_of_inputs=13, num_of_hidden=5, num_of_outputs=1)\n",
    "\n",
    "# 启动训练\n",
    "losses = net.train(train_data[:, :-1], train_data[:, -1:], num_epochs=50, batch_size=100, eta=0.1)\n",
    "\n",
    "# 画出损失函数的变化趋势\n",
    "import matplotlib.pyplot as plt\n",
    "plot_x = np.arange(len(losses))\n",
    "plot_y = np.array(losses)\n",
    "plt.plot(plot_x, plot_y)\n",
    "plt.xlabel('Iterations')\n",
    "plt.ylabel('Loss')\n",
    "plt.show()\n"
   ]
  },
  {
   "cell_type": "code",
   "execution_count": null,
   "id": "fe2fc74a-e48a-4488-9726-59f8061e1069",
   "metadata": {
    "scrolled": true
   },
   "outputs": [],
   "source": []
  }
 ],
 "metadata": {
  "kernelspec": {
   "display_name": "d2l",
   "language": "python",
   "name": "python3"
  },
  "language_info": {
   "codemirror_mode": {
    "name": "ipython",
    "version": 3
   },
   "file_extension": ".py",
   "mimetype": "text/x-python",
   "name": "python",
   "nbconvert_exporter": "python",
   "pygments_lexer": "ipython3",
   "version": "3.8.16"
  }
 },
 "nbformat": 4,
 "nbformat_minor": 5
}
