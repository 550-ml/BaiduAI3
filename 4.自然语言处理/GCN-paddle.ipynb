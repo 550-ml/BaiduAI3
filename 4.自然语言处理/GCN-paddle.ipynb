{
 "cells": [
  {
   "cell_type": "code",
   "execution_count": 2,
   "metadata": {},
   "outputs": [],
   "source": [
    "import paddle\n",
    "from paddle import nn\n",
    "import paddle.nn.functional as F"
   ]
  },
  {
   "cell_type": "markdown",
   "metadata": {},
   "source": [
    "# 创建图卷积层和GCN"
   ]
  },
  {
   "cell_type": "code",
   "execution_count": null,
   "metadata": {},
   "outputs": [],
   "source": [
    "# 创建图卷积层\n",
    "class GCNLayer(nn.Layer):\n",
    "    \"\"\"实现卷积层\n",
    "\n",
    "    Args:\n",
    "        \n",
    "    \"\"\"\n",
    "    def __init__(self, input_dim, output_dim, dropout=0.,\n",
    "                 act=F.relu(), bias=False, first=False):\n",
    "        super(GCNLayer, self).__init__()\n",
    "        \n",
    "        self.act = act\n",
    "        self.first = first\n",
    "        self.bias = None\n",
    "        if bias:\n",
    "            self.bias = paddle.create_parameter(shape=(output_dim,), default_initializer=paddle.nn.initializer.Constant(value=0))  \n",
    "        self.weight = paddle.create_parameter(shape=(input_dim, output_dim), default_initializer=paddle.nn.initializer.Xavier())\n",
    "        self.dropout = F.dropout(dropout)\n",
    "        self.reset_parameters()\n",
    "    \n",
    "    def reset_parameters(self):  \n",
    "        nn.initializer.xavier_uniform_(self.weight, gain=1)  \n",
    "        if self.bias is not None:  \n",
    "            nn.initializer.zeros_(self.bias)  \n",
    "\n",
    "    def forward(self, x, support):\n",
    "        \"\"\"前向\n",
    "\n",
    "        Args:\n",
    "            x (_type_): 输入特征\n",
    "            support (_type_): _邻接矩阵_\n",
    "        \"\"\"\n",
    "        if self.first:\n",
    "            x = self.weight\n",
    "        else:\n",
    "            x = self.dropout(x).mm(self.weight)\n",
    "        "
   ]
  }
 ],
 "metadata": {
  "kernelspec": {
   "display_name": "d2l",
   "language": "python",
   "name": "python3"
  },
  "language_info": {
   "codemirror_mode": {
    "name": "ipython",
    "version": 3
   },
   "file_extension": ".py",
   "mimetype": "text/x-python",
   "name": "python",
   "nbconvert_exporter": "python",
   "pygments_lexer": "ipython3",
   "version": "3.8.16"
  }
 },
 "nbformat": 4,
 "nbformat_minor": 2
}
