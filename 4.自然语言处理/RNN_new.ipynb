{
 "cells": [
  {
   "cell_type": "code",
   "execution_count": 5,
   "metadata": {},
   "outputs": [],
   "source": [
    "%matplotlib inline\n",
    "import math\n",
    "import paddle\n",
    "from paddle import nn\n",
    "from paddle.nn import functional as F\n",
    "import d2l"
   ]
  },
  {
   "cell_type": "code",
   "execution_count": 6,
   "metadata": {},
   "outputs": [
    {
     "name": "stdout",
     "output_type": "stream",
     "text": [
      "{'Z': 1, 'y': 2, 'j': 3, 'Q': 4, 'h': 5, 'l': 6, 'W': 7, 'I': 8, 'g': 9, 'q': 10, 'o': 11, 'i': 12, 'a': 13, 'P': 14, 'M': 15, 'n': 16, 'f': 17, '$': 18, '^': 19, 'e': 20, 'b': 21, 'X': 22, 'D': 23, 'w': 24, 'H': 25, 'C': 26, 'U': 27, 'v': 28, 'B': 29, 'F': 30, 'K': 31, 'O': 32, 'z': 33, 't': 34, 'p': 35, 'm': 36, \"'\": 37, 'E': 38, 'L': 39, 'k': 40, 'd': 41, 'G': 42, 'S': 43, 'T': 44, 'V': 45, 'J': 46, 'c': 47, 's': 48, ' ': 49, 'A': 50, 'r': 51, 'u': 52, 'x': 53, 'N': 54, 'Y': 55, 'R': 56, '-': 57}\n"
     ]
    }
   ],
   "source": [
    "# 定义起始和结束标识符\n",
    "START_TOKEN = '^'\n",
    "END_TOKEN = '$'\n",
    "\n",
    "# 读取原始文件\n",
    "file_path = 'male.txt'  # 替换为你的文件路径\n",
    "with open(file_path, 'r') as file:\n",
    "    names = file.readlines()\n",
    "\n",
    "# 清理每个名字，并添加起始和结束标识符\n",
    "processed_names = [f\"{START_TOKEN}{name.strip()}{END_TOKEN}\" for name in names]\n",
    "\n",
    "# 获取最长的名字长度\n",
    "max_length = max(len(name) for name in processed_names)\n",
    "\n",
    "# 创建字符到索引的映射\n",
    "all_chars = set(''.join(processed_names))\n",
    "char_to_index = {char: idx + 1 for idx, char in enumerate(all_chars)}\n",
    "index_to_char = {idx: char for char, idx in char_to_index.items()}\n",
    "print(char_to_index)\n",
    "# 将字符编码并保存为新的.txt文件，用0进行填充以保持相同长度\n",
    "processed_file_path = 'processed_names.txt'  # 保存处理后的文件路径\n",
    "with open(processed_file_path, 'w') as processed_file:\n",
    "    for name in processed_names:\n",
    "        encoded_name = [char_to_index[char] for char in name]\n",
    "        # 使用0填充使每个编码后的名字长度相同\n",
    "        encoded_name += [0] * (max_length - len(encoded_name))\n",
    "        encoded_name = ' '.join(map(str, encoded_name))  # 用空格分隔编码以便保存\n",
    "        processed_file.write(encoded_name + '\\n')"
   ]
  },
  {
   "cell_type": "code",
   "execution_count": 7,
   "metadata": {},
   "outputs": [
    {
     "name": "stdout",
     "output_type": "stream",
     "text": [
      "[[19 50 13 ...  0  0  0]\n",
      " [19 50 13 ...  0  0  0]\n",
      " [19 50 21 ...  0  0  0]\n",
      " ...\n",
      " [19 31 13 ...  0  0  0]\n",
      " [19 42 12 ...  0  0  0]\n",
      " [19 42 20 ...  0  0  0]]\n"
     ]
    }
   ],
   "source": [
    "import numpy as np\n",
    "file_path = 'processed_names.txt'  # 修改为你的文件路径\n",
    "with open(file_path, 'r') as file:\n",
    "    encoded_names = file.readlines()\n",
    "\n",
    "# 转换为列表，每个元素是一个编码后的名字的列表\n",
    "encoded_names = [\n",
    "    list(map(int, name.strip().split())) for name in encoded_names\n",
    "]\n",
    "encoded_names = np.array(encoded_names)\n",
    "print(encoded_names)"
   ]
  },
  {
   "cell_type": "code",
   "execution_count": 8,
   "metadata": {},
   "outputs": [
    {
     "name": "stdout",
     "output_type": "stream",
     "text": [
      "Tensor(shape=[32, 16], dtype=int32, place=Place(gpu:0), stop_gradient=True,\n",
      "       [[19, 23, 13, 51, 41, 13, 18, 0 , 0 , 0 , 0 , 0 , 0 , 0 , 0 , 0 ],\n",
      "        [19, 44, 20, 41, 12, 20, 18, 0 , 0 , 0 , 0 , 0 , 0 , 0 , 0 , 0 ],\n",
      "        [19, 31, 13, 34, 12, 18, 0 , 0 , 0 , 0 , 0 , 0 , 0 , 0 , 0 , 0 ],\n",
      "        [19, 43, 13, 2 , 20, 51, 48, 18, 0 , 0 , 0 , 0 , 0 , 0 , 0 , 0 ],\n",
      "        [19, 50, 52, 21, 51, 20, 2 , 18, 0 , 0 , 0 , 0 , 0 , 0 , 0 , 0 ],\n",
      "        [19, 23, 11, 51, 12, 13, 16, 18, 0 , 0 , 0 , 0 , 0 , 0 , 0 , 0 ],\n",
      "        [19, 46, 20, 21, 18, 0 , 0 , 0 , 0 , 0 , 0 , 0 , 0 , 0 , 0 , 0 ],\n",
      "        [19, 38, 51, 51, 11, 6 , 18, 0 , 0 , 0 , 0 , 0 , 0 , 0 , 0 , 0 ],\n",
      "        [19, 45, 13, 6 , 41, 20, 36, 13, 51, 18, 0 , 0 , 0 , 0 , 0 , 0 ],\n",
      "        [19, 46, 13, 16, 20, 47, 33, 40, 13, 18, 0 , 0 , 0 , 0 , 0 , 0 ],\n",
      "        [19, 50, 16, 16, 13, 6 , 12, 48, 20, 18, 0 , 0 , 0 , 0 , 0 , 0 ],\n",
      "        [19, 32, 51, 12, 13, 16, 13, 18, 0 , 0 , 0 , 0 , 0 , 0 , 0 , 0 ],\n",
      "        [19, 39, 2 , 16, 20, 6 , 6 , 20, 18, 0 , 0 , 0 , 0 , 0 , 0 , 0 ],\n",
      "        [19, 43, 12, 36, 11, 16, 18, 0 , 0 , 0 , 0 , 0 , 0 , 0 , 0 , 0 ],\n",
      "        [19, 42, 51, 13, 12, 9 , 18, 0 , 0 , 0 , 0 , 0 , 0 , 0 , 0 , 0 ],\n",
      "        [19, 15, 13, 51, 9 , 13, 51, 20, 34, 34, 20, 18, 0 , 0 , 0 , 0 ],\n",
      "        [19, 50, 41, 41, 12, 48, 18, 0 , 0 , 0 , 0 , 0 , 0 , 0 , 0 , 0 ],\n",
      "        [19, 32, 6 , 9 , 13, 18, 0 , 0 , 0 , 0 , 0 , 0 , 0 , 0 , 0 , 0 ],\n",
      "        [19, 54, 20, 13, 6 , 20, 18, 0 , 0 , 0 , 0 , 0 , 0 , 0 , 0 , 0 ],\n",
      "        [19, 23, 20, 28, 12, 16, 13, 18, 0 , 0 , 0 , 0 , 0 , 0 , 0 , 0 ],\n",
      "        [19, 38, 6 , 20, 16, 13, 18, 0 , 0 , 0 , 0 , 0 , 0 , 0 , 0 , 0 ],\n",
      "        [19, 26, 13, 51, 12, 6 , 18, 0 , 0 , 0 , 0 , 0 , 0 , 0 , 0 , 0 ],\n",
      "        [19, 31, 12, 16, 9 , 48, 6 , 2 , 18, 0 , 0 , 0 , 0 , 0 , 0 , 0 ],\n",
      "        [19, 42, 13, 21, 51, 12, 20, 6 , 6 , 12, 13, 18, 0 , 0 , 0 , 0 ],\n",
      "        [19, 15, 13, 51, 2 , 21, 20, 34, 5 , 18, 0 , 0 , 0 , 0 , 0 , 0 ],\n",
      "        [19, 46, 11, 48, 20, 17, 13, 18, 0 , 0 , 0 , 0 , 0 , 0 , 0 , 0 ],\n",
      "        [19, 39, 52, 41, 24, 12, 9 , 18, 0 , 0 , 0 , 0 , 0 , 0 , 0 , 0 ],\n",
      "        [19, 15, 13, 51, 34, 5 , 13, 18, 0 , 0 , 0 , 0 , 0 , 0 , 0 , 0 ],\n",
      "        [19, 15, 13, 51, 12, 48, 40, 13, 18, 0 , 0 , 0 , 0 , 0 , 0 , 0 ],\n",
      "        [19, 44, 5 , 20, 13, 18, 0 , 0 , 0 , 0 , 0 , 0 , 0 , 0 , 0 , 0 ],\n",
      "        [19, 31, 13, 34, 12, 16, 13, 18, 0 , 0 , 0 , 0 , 0 , 0 , 0 , 0 ],\n",
      "        [19, 15, 13, 51, 12, 20, 18, 0 , 0 , 0 , 0 , 0 , 0 , 0 , 0 , 0 ]])\n",
      "Tensor(shape=[32, 16], dtype=int32, place=Place(gpu:0), stop_gradient=True,\n",
      "       [[23, 13, 51, 41, 13, 18, 0 , 0 , 0 , 0 , 0 , 0 , 0 , 0 , 0 , 0 ],\n",
      "        [44, 20, 41, 12, 20, 18, 0 , 0 , 0 , 0 , 0 , 0 , 0 , 0 , 0 , 0 ],\n",
      "        [31, 13, 34, 12, 18, 0 , 0 , 0 , 0 , 0 , 0 , 0 , 0 , 0 , 0 , 0 ],\n",
      "        [43, 13, 2 , 20, 51, 48, 18, 0 , 0 , 0 , 0 , 0 , 0 , 0 , 0 , 0 ],\n",
      "        [50, 52, 21, 51, 20, 2 , 18, 0 , 0 , 0 , 0 , 0 , 0 , 0 , 0 , 0 ],\n",
      "        [23, 11, 51, 12, 13, 16, 18, 0 , 0 , 0 , 0 , 0 , 0 , 0 , 0 , 0 ],\n",
      "        [46, 20, 21, 18, 0 , 0 , 0 , 0 , 0 , 0 , 0 , 0 , 0 , 0 , 0 , 0 ],\n",
      "        [38, 51, 51, 11, 6 , 18, 0 , 0 , 0 , 0 , 0 , 0 , 0 , 0 , 0 , 0 ],\n",
      "        [45, 13, 6 , 41, 20, 36, 13, 51, 18, 0 , 0 , 0 , 0 , 0 , 0 , 0 ],\n",
      "        [46, 13, 16, 20, 47, 33, 40, 13, 18, 0 , 0 , 0 , 0 , 0 , 0 , 0 ],\n",
      "        [50, 16, 16, 13, 6 , 12, 48, 20, 18, 0 , 0 , 0 , 0 , 0 , 0 , 0 ],\n",
      "        [32, 51, 12, 13, 16, 13, 18, 0 , 0 , 0 , 0 , 0 , 0 , 0 , 0 , 0 ],\n",
      "        [39, 2 , 16, 20, 6 , 6 , 20, 18, 0 , 0 , 0 , 0 , 0 , 0 , 0 , 0 ],\n",
      "        [43, 12, 36, 11, 16, 18, 0 , 0 , 0 , 0 , 0 , 0 , 0 , 0 , 0 , 0 ],\n",
      "        [42, 51, 13, 12, 9 , 18, 0 , 0 , 0 , 0 , 0 , 0 , 0 , 0 , 0 , 0 ],\n",
      "        [15, 13, 51, 9 , 13, 51, 20, 34, 34, 20, 18, 0 , 0 , 0 , 0 , 0 ],\n",
      "        [50, 41, 41, 12, 48, 18, 0 , 0 , 0 , 0 , 0 , 0 , 0 , 0 , 0 , 0 ],\n",
      "        [32, 6 , 9 , 13, 18, 0 , 0 , 0 , 0 , 0 , 0 , 0 , 0 , 0 , 0 , 0 ],\n",
      "        [54, 20, 13, 6 , 20, 18, 0 , 0 , 0 , 0 , 0 , 0 , 0 , 0 , 0 , 0 ],\n",
      "        [23, 20, 28, 12, 16, 13, 18, 0 , 0 , 0 , 0 , 0 , 0 , 0 , 0 , 0 ],\n",
      "        [38, 6 , 20, 16, 13, 18, 0 , 0 , 0 , 0 , 0 , 0 , 0 , 0 , 0 , 0 ],\n",
      "        [26, 13, 51, 12, 6 , 18, 0 , 0 , 0 , 0 , 0 , 0 , 0 , 0 , 0 , 0 ],\n",
      "        [31, 12, 16, 9 , 48, 6 , 2 , 18, 0 , 0 , 0 , 0 , 0 , 0 , 0 , 0 ],\n",
      "        [42, 13, 21, 51, 12, 20, 6 , 6 , 12, 13, 18, 0 , 0 , 0 , 0 , 0 ],\n",
      "        [15, 13, 51, 2 , 21, 20, 34, 5 , 18, 0 , 0 , 0 , 0 , 0 , 0 , 0 ],\n",
      "        [46, 11, 48, 20, 17, 13, 18, 0 , 0 , 0 , 0 , 0 , 0 , 0 , 0 , 0 ],\n",
      "        [39, 52, 41, 24, 12, 9 , 18, 0 , 0 , 0 , 0 , 0 , 0 , 0 , 0 , 0 ],\n",
      "        [15, 13, 51, 34, 5 , 13, 18, 0 , 0 , 0 , 0 , 0 , 0 , 0 , 0 , 0 ],\n",
      "        [15, 13, 51, 12, 48, 40, 13, 18, 0 , 0 , 0 , 0 , 0 , 0 , 0 , 0 ],\n",
      "        [44, 5 , 20, 13, 18, 0 , 0 , 0 , 0 , 0 , 0 , 0 , 0 , 0 , 0 , 0 ],\n",
      "        [31, 13, 34, 12, 16, 13, 18, 0 , 0 , 0 , 0 , 0 , 0 , 0 , 0 , 0 ],\n",
      "        [15, 13, 51, 12, 20, 18, 0 , 0 , 0 , 0 , 0 , 0 , 0 , 0 , 0 , 0 ]])\n"
     ]
    }
   ],
   "source": [
    "import paddle\n",
    "from paddle.io import DataLoader\n",
    "from sklearn.model_selection import train_test_split\n",
    "\n",
    "# 这里是你读取已编码名字的代码，确保已正确读取到 encoded_names\n",
    "\n",
    "# 划分数据集：80% 训练集，10% 验证集，10% 测试集\n",
    "train_names, val_test_names = train_test_split(encoded_names, test_size=0.2, random_state=42)\n",
    "val_names, test_names = train_test_split(val_test_names, test_size=0.5, random_state=42)\n",
    "\n",
    "# 创建数据加载器\n",
    "batch_size = 32  # 设置 mini-batch 大小\n",
    "\n",
    "\n",
    "# 创建 DataLoader\n",
    "train_loader = DataLoader(\n",
    "    dataset=train_names,\n",
    "    batch_size=batch_size,\n",
    "    shuffle=True,\n",
    "\n",
    ")\n",
    "\n",
    "val_loader = DataLoader(\n",
    "    dataset=val_names,\n",
    "    batch_size=batch_size,\n",
    "    shuffle=False,\n",
    "\n",
    ")\n",
    "\n",
    "test_loader = DataLoader(\n",
    "    dataset=test_names,\n",
    "    batch_size=batch_size,\n",
    "    shuffle=False,\n",
    ")\n",
    "\n",
    "# 打印输出一个mini-batch的数据\n",
    "for idx, item in enumerate(train_loader()):\n",
    "    X = item[:,:-1]\n",
    "    Y = item[:,1:]\n",
    "    # Y = F.one_hot(Y,len(char_to_index)+1)\n",
    "    # Y = paddle.reshape(Y, shape=[-1, 58])\n",
    "    print(X)\n",
    "    print(Y)\n",
    "    break"
   ]
  },
  {
   "cell_type": "code",
   "execution_count": null,
   "metadata": {},
   "outputs": [],
   "source": []
  }
 ],
 "metadata": {
  "kernelspec": {
   "display_name": "d2l",
   "language": "python",
   "name": "python3"
  },
  "language_info": {
   "codemirror_mode": {
    "name": "ipython",
    "version": 3
   },
   "file_extension": ".py",
   "mimetype": "text/x-python",
   "name": "python",
   "nbconvert_exporter": "python",
   "pygments_lexer": "ipython3",
   "version": "3.8.16"
  }
 },
 "nbformat": 4,
 "nbformat_minor": 2
}
