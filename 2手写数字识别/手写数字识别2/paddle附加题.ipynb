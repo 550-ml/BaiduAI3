{
 "cells": [
  {
   "cell_type": "code",
   "execution_count": 15,
   "metadata": {},
   "outputs": [],
   "source": [
    "# 导入包\n",
    "import paddle\n",
    "from paddle.nn import Linear\n",
    "import paddle.nn.functional as F\n",
    "import os\n",
    "import gzip\n",
    "import json\n",
    "import random\n",
    "import numpy as np"
   ]
  },
  {
   "cell_type": "code",
   "execution_count": 16,
   "metadata": {},
   "outputs": [],
   "source": [
    "import paddle\n",
    "from paddle.vision.transforms import Normalize\n",
    "\n",
    "def get_MNIST_dataloader():\n",
    "    # 定义图像归一化处理方法，这里的CHW指图像格式需为 [C通道数，H图像高度，W图像宽度]\n",
    "    transform = Normalize(mean=[127.5], std=[127.5], data_format='CHW')\n",
    "    # 下载数据集并初始化 DataSet\n",
    "    train_dataset = paddle.vision.datasets.MNIST(mode='train', transform=transform)\n",
    "    test_dataset = paddle.vision.datasets.MNIST(mode='test', transform=transform)\n",
    "\n",
    "    # 定义并初始化数据读取器\n",
    "    train_loader = paddle.io.DataLoader(train_dataset, batch_size=64, shuffle=True, num_workers=1, drop_last=True)\n",
    "    test_loader = paddle.io.DataLoader(test_dataset, batch_size=64, shuffle=False, num_workers=1, drop_last=False)\n",
    "\n",
    "    return train_loader, test_loader"
   ]
  },
  {
   "cell_type": "code",
   "execution_count": 17,
   "metadata": {},
   "outputs": [
    {
     "name": "stderr",
     "output_type": "stream",
     "text": [
      "e:\\SoftWare\\Program\\Anaconda\\envs\\d2l\\lib\\site-packages\\paddle\\io\\reader.py:433: UserWarning: DataLoader with multi-process mode is not supported on MacOs and Windows currently. Please use signle-process mode with num_workers = 0 instead\n",
      "  warnings.warn(\n"
     ]
    }
   ],
   "source": [
    "train_loader, test_loader = get_MNIST_dataloader()"
   ]
  },
  {
   "cell_type": "code",
   "execution_count": 18,
   "metadata": {},
   "outputs": [],
   "source": [
    "class MNIST(paddle.nn.Layer):\n",
    "    def __init__(self):\n",
    "        super(MNIST, self).__init__()\n",
    "        # 还是两层隐藏层的网络\n",
    "        self.fc1 = Linear(in_features=784, out_features=200)\n",
    "        self.fc2 = Linear(in_features=200, out_features=200)\n",
    "        # 输出十个维度，使用交叉熵损失函数\n",
    "        self.fc3 = Linear(in_features=200, out_features=10)\n",
    "\n",
    "    def forward(self, inputs):\n",
    "        inputs = paddle.reshape(inputs, [inputs.shape[0], 784])\n",
    "        outputs1 = self.fc1(inputs)\n",
    "        outputs1 = F.relu(outputs1)\n",
    "        outputs2 = self.fc2(outputs1)\n",
    "        outputs2 = F.relu(outputs2)\n",
    "        outputs3 = self.fc3(outputs2)\n",
    "        # 使用softmax激活\n",
    "        outputs_final = F.softmax(outputs3)\n",
    "        return outputs_final"
   ]
  },
  {
   "cell_type": "code",
   "execution_count": 19,
   "metadata": {},
   "outputs": [
    {
     "name": "stdout",
     "output_type": "stream",
     "text": [
      "---------------------------------------------------------------------------\n",
      " Layer (type)       Input Shape          Output Shape         Param #    \n",
      "===========================================================================\n",
      "   Linear-13         [[1, 784]]            [1, 200]           157,000    \n",
      "   Linear-14         [[1, 200]]            [1, 200]           40,200     \n",
      "   Linear-15         [[1, 200]]            [1, 10]             2,010     \n",
      "===========================================================================\n",
      "Total params: 199,210\n",
      "Trainable params: 199,210\n",
      "Non-trainable params: 0\n",
      "---------------------------------------------------------------------------\n",
      "Input size (MB): 0.00\n",
      "Forward/backward pass size (MB): 0.00\n",
      "Params size (MB): 0.76\n",
      "Estimated Total Size (MB): 0.77\n",
      "---------------------------------------------------------------------------\n",
      "\n",
      "{'total_params': 199210, 'trainable_params': 199210}\n"
     ]
    }
   ],
   "source": [
    "# 创建网络实例\n",
    "model1 = MNIST()\n",
    "params_info = paddle.summary(model1, (1,1,28,28))\n",
    "print(params_info)"
   ]
  },
  {
   "cell_type": "code",
   "execution_count": 24,
   "metadata": {},
   "outputs": [],
   "source": [
    "# 训练,交叉熵损失\n",
    "def train(model):\n",
    "    model.train()\n",
    "\n",
    "    # 参数配置\n",
    "    opt = paddle.optimizer.SGD(learning_rate=0.1, parameters=model.parameters())\n",
    "\n",
    "    EPOCH_NUM = 10\n",
    "    losses = []\n",
    "\n",
    "    for epoch_id in range(EPOCH_NUM):\n",
    "        for batch_id , data in enumerate(train_loader()):\n",
    "            # 数据准备\n",
    "            images, labels = data \n",
    "            images = paddle.to_tensor(images)\n",
    "            labels = paddle.to_tensor(labels)\n",
    "\n",
    "            # 前向计算\n",
    "            predicts = model(images)\n",
    "\n",
    "            # 采用交叉熵损失函数\n",
    "            loss = F.cross_entropy(predicts, labels)\n",
    "            avg_loss = paddle.mean(loss)\n",
    "\n",
    "\n",
    "            #每训练200批次的数据，打印下当前Loss的情况\n",
    "            if batch_id % 200 == 0:\n",
    "                losses.append(avg_loss.numpy()[0])\n",
    "                print(\"epoch: {}, batch: {}, loss is: {}\".format(epoch_id, batch_id, avg_loss.numpy()))\n",
    "            \n",
    "            # 反向\n",
    "            avg_loss.backward()\n",
    "            opt.step()\n",
    "            opt.clear_grad()\n",
    "    import matplotlib.pyplot as plt\n",
    "    plot_x = np.arange(len(losses))\n",
    "    plot_y = np.array(losses)\n",
    "    plt.plot(plot_x, plot_y)\n",
    "    plt.xlabel('Iterations')\n",
    "    plt.ylabel('Cross_Loss')\n",
    "    plt.show()\n",
    "\n",
    "    return losses"
   ]
  },
  {
   "cell_type": "code",
   "execution_count": 25,
   "metadata": {},
   "outputs": [
    {
     "name": "stdout",
     "output_type": "stream",
     "text": [
      "epoch: 0, batch: 0, loss is: [2.3052783]\n",
      "epoch: 0, batch: 200, loss is: [1.6523604]\n",
      "epoch: 0, batch: 400, loss is: [1.6737815]\n",
      "epoch: 0, batch: 600, loss is: [1.6795328]\n",
      "epoch: 0, batch: 800, loss is: [1.6281617]\n",
      "epoch: 1, batch: 0, loss is: [1.6613021]\n",
      "epoch: 1, batch: 200, loss is: [1.6398115]\n",
      "epoch: 1, batch: 400, loss is: [1.6338093]\n",
      "epoch: 1, batch: 600, loss is: [1.6103373]\n",
      "epoch: 1, batch: 800, loss is: [1.6522344]\n",
      "epoch: 2, batch: 0, loss is: [1.5021939]\n",
      "epoch: 2, batch: 200, loss is: [1.5426278]\n",
      "epoch: 2, batch: 400, loss is: [1.4983317]\n",
      "epoch: 2, batch: 600, loss is: [1.5434194]\n",
      "epoch: 2, batch: 800, loss is: [1.5835805]\n",
      "epoch: 3, batch: 0, loss is: [1.5087924]\n",
      "epoch: 3, batch: 200, loss is: [1.484909]\n",
      "epoch: 3, batch: 400, loss is: [1.5704712]\n",
      "epoch: 3, batch: 600, loss is: [1.524518]\n",
      "epoch: 3, batch: 800, loss is: [1.5184557]\n",
      "epoch: 4, batch: 0, loss is: [1.4829903]\n",
      "epoch: 4, batch: 200, loss is: [1.4915793]\n",
      "epoch: 4, batch: 400, loss is: [1.5066257]\n",
      "epoch: 4, batch: 600, loss is: [1.5174257]\n",
      "epoch: 4, batch: 800, loss is: [1.4795024]\n",
      "epoch: 5, batch: 0, loss is: [1.527022]\n",
      "epoch: 5, batch: 200, loss is: [1.5192771]\n",
      "epoch: 5, batch: 400, loss is: [1.5132744]\n",
      "epoch: 5, batch: 600, loss is: [1.5024433]\n",
      "epoch: 5, batch: 800, loss is: [1.4838805]\n",
      "epoch: 6, batch: 0, loss is: [1.5093124]\n",
      "epoch: 6, batch: 200, loss is: [1.4905243]\n",
      "epoch: 6, batch: 400, loss is: [1.4840231]\n",
      "epoch: 6, batch: 600, loss is: [1.509517]\n",
      "epoch: 6, batch: 800, loss is: [1.5372875]\n",
      "epoch: 7, batch: 0, loss is: [1.5399867]\n",
      "epoch: 7, batch: 200, loss is: [1.5055836]\n",
      "epoch: 7, batch: 400, loss is: [1.5075259]\n",
      "epoch: 7, batch: 600, loss is: [1.5082833]\n",
      "epoch: 7, batch: 800, loss is: [1.5487285]\n",
      "epoch: 8, batch: 0, loss is: [1.4956213]\n",
      "epoch: 8, batch: 200, loss is: [1.5139507]\n",
      "epoch: 8, batch: 400, loss is: [1.4815011]\n",
      "epoch: 8, batch: 600, loss is: [1.4950652]\n",
      "epoch: 8, batch: 800, loss is: [1.4985845]\n",
      "epoch: 9, batch: 0, loss is: [1.5110512]\n",
      "epoch: 9, batch: 200, loss is: [1.4832036]\n",
      "epoch: 9, batch: 400, loss is: [1.4911158]\n",
      "epoch: 9, batch: 600, loss is: [1.4768522]\n",
      "epoch: 9, batch: 800, loss is: [1.4874942]\n"
     ]
    },
    {
     "data": {
      "image/png": "[encoded data removed]",
      "text/plain": [
       "<Figure size 640x480 with 1 Axes>"
      ]
     },
     "metadata": {},
     "output_type": "display_data"
    }
   ],
   "source": [
    "model_cross = MNIST()\n",
    "losses_cross = train(model_cross)"
   ]
  },
  {
   "cell_type": "code",
   "execution_count": 26,
   "metadata": {},
   "outputs": [],
   "source": [
    "def evaluation(model, datasets):\n",
    "    model.eval()\n",
    "\n",
    "    acc_set = list()\n",
    "    for batch_id, data in enumerate(datasets()):\n",
    "        images, labels = data\n",
    "        images = paddle.to_tensor(images)\n",
    "        labels = paddle.to_tensor(labels)\n",
    "        pred = model(images)   # 获取预测值\n",
    "        acc = paddle.metric.accuracy(input=pred, label=labels)\n",
    "        acc_set.extend(acc.numpy())\n",
    "    \n",
    "    # #计算多个batch的准确率\n",
    "    acc_val_mean = np.array(acc_set).mean()\n",
    "    return acc_val_mean"
   ]
  },
  {
   "cell_type": "code",
   "execution_count": 28,
   "metadata": {},
   "outputs": [
    {
     "name": "stdout",
     "output_type": "stream",
     "text": [
      "0.96715766\n"
     ]
    }
   ],
   "source": [
    "acc_of_Cross = evaluation(model_cross, test_loader)\n",
    "print(acc_of_Cross)"
   ]
  }
 ],
 "metadata": {
  "kernelspec": {
   "display_name": "d2l",
   "language": "python",
   "name": "python3"
  },
  "language_info": {
   "codemirror_mode": {
    "name": "ipython",
    "version": 3
   },
   "file_extension": ".py",
   "mimetype": "text/x-python",
   "name": "python",
   "nbconvert_exporter": "python",
   "pygments_lexer": "ipython3",
   "version": "3.8.16"
  }
 },
 "nbformat": 4,
 "nbformat_minor": 2
}
