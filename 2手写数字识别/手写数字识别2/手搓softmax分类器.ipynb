{
 "cells": [
  {
   "cell_type": "code",
   "execution_count": 13,
   "metadata": {},
   "outputs": [],
   "source": [
    "# 使用的框架paddle\n",
    "# 相关框架的加载\n",
    "import paddle\n",
    "from paddle.nn import Linear\n",
    "import paddle.nn.functional as F\n",
    "import os\n",
    "import gzip\n",
    "import json\n",
    "import random\n",
    "import numpy as np"
   ]
  },
  {
   "cell_type": "code",
   "execution_count": null,
   "metadata": {},
   "outputs": [],
   "source": []
  },
  {
   "cell_type": "code",
   "execution_count": 14,
   "metadata": {},
   "outputs": [],
   "source": [
    "import paddle\n",
    "from paddle.vision.transforms import Normalize\n",
    "\n",
    "def get_MNIST_dataloader():\n",
    "    # 定义图像归一化处理方法，这里的CHW指图像格式需为 [C通道数，H图像高度，W图像宽度]\n",
    "    transform = Normalize(mean=[127.5], std=[127.5], data_format='CHW')\n",
    "    # 下载数据集并初始化 DataSet\n",
    "    train_dataset = paddle.vision.datasets.MNIST(mode='train', transform=transform)\n",
    "    test_dataset = paddle.vision.datasets.MNIST(mode='test', transform=transform)\n",
    "\n",
    "    # 定义并初始化数据读取器\n",
    "    train_loader = paddle.io.DataLoader(train_dataset, batch_size=64, shuffle=True, num_workers=1, drop_last=True)\n",
    "    test_loader = paddle.io.DataLoader(test_dataset, batch_size=64, shuffle=False, num_workers=1, drop_last=False)\n",
    "\n",
    "    return train_loader, test_loader"
   ]
  },
  {
   "cell_type": "code",
   "execution_count": 15,
   "metadata": {},
   "outputs": [
    {
     "name": "stderr",
     "output_type": "stream",
     "text": [
      "e:\\SoftWare\\Program\\Anaconda\\envs\\d2l\\lib\\site-packages\\paddle\\io\\reader.py:433: UserWarning: DataLoader with multi-process mode is not supported on MacOs and Windows currently. Please use signle-process mode with num_workers = 0 instead\n",
      "  warnings.warn(\n"
     ]
    }
   ],
   "source": [
    "train_loader, test_loader = get_MNIST_dataloader()"
   ]
  },
  {
   "cell_type": "code",
   "execution_count": 23,
   "metadata": {},
   "outputs": [],
   "source": [
    "class SOFTMAX_NET(paddle.nn.Layer):\n",
    "    def __init__(self):\n",
    "        super(SOFTMAX_NET, self).__init__()\n",
    "        self.fc1 = Linear(in_features=784, out_features=10)\n",
    "        \n",
    "    def forward(self, inputs):\n",
    "        inputs = paddle.reshape(inputs, [inputs.shape[0], 784])\n",
    "        outputs1 = self.fc1(inputs)\n",
    "        outputs_final = F.softmax(outputs1)\n",
    "        return outputs_final\n"
   ]
  },
  {
   "cell_type": "code",
   "execution_count": 24,
   "metadata": {},
   "outputs": [],
   "source": [
    "def train(model):\n",
    "    model.train()\n",
    "    \n",
    "    # 训练参数\n",
    "    opt = paddle.optimizer.SGD(learning_rate=0.05, parameters=model.parameters())\n",
    "    EPOCH_NUM = 10\n",
    "    losses = []\n",
    "\n",
    "    # 训练\n",
    "    for epoch_id in range(EPOCH_NUM):\n",
    "        for batch_id, data in enumerate(train_loader()):\n",
    "            # 数据准备\n",
    "            images, labels = data\n",
    "            images = paddle.to_tensor(images)\n",
    "            labels = paddle.to_tensor(labels)\n",
    "\n",
    "            # 前向训练\n",
    "            predicts = model(images)\n",
    "\n",
    "            # 交叉熵损失\n",
    "            loss = F.cross_entropy(predicts, labels)\n",
    "            avg_loss = paddle.mean(loss)\n",
    "\n",
    "\n",
    "            #每训练200批次的数据，打印下当前Loss的情况\n",
    "            if batch_id % 200 == 0:\n",
    "                losses.append(avg_loss.numpy()[0])\n",
    "                print(\"epoch: {}, batch: {}, loss is: {}\".format(epoch_id, batch_id, avg_loss.numpy()))\n",
    "            \n",
    "            # 反向\n",
    "            avg_loss.backward()\n",
    "            opt.step()\n",
    "            opt.clear_grad()\n",
    "\n",
    "    import matplotlib.pyplot as plt\n",
    "    plot_x = np.arange(len(losses))\n",
    "    plot_y = np.array(losses)\n",
    "    plt.plot(plot_x, plot_y)\n",
    "    plt.xlabel('Iterations')\n",
    "    plt.ylabel('Cross_Loss')\n",
    "    plt.show()\n",
    "\n",
    "    return losses"
   ]
  },
  {
   "cell_type": "code",
   "execution_count": 25,
   "metadata": {},
   "outputs": [
    {
     "name": "stdout",
     "output_type": "stream",
     "text": [
      "epoch: 0, batch: 0, loss is: [2.319068]\n",
      "epoch: 0, batch: 200, loss is: [1.9784186]\n",
      "epoch: 0, batch: 400, loss is: [1.8731861]\n",
      "epoch: 0, batch: 600, loss is: [1.7609036]\n",
      "epoch: 0, batch: 800, loss is: [1.7547088]\n",
      "epoch: 1, batch: 0, loss is: [1.7945935]\n",
      "epoch: 1, batch: 200, loss is: [1.8418014]\n",
      "epoch: 1, batch: 400, loss is: [1.8340743]\n",
      "epoch: 1, batch: 600, loss is: [1.7444136]\n",
      "epoch: 1, batch: 800, loss is: [1.7387847]\n",
      "epoch: 2, batch: 0, loss is: [1.7637134]\n",
      "epoch: 2, batch: 200, loss is: [1.7216073]\n",
      "epoch: 2, batch: 400, loss is: [1.7713566]\n",
      "epoch: 2, batch: 600, loss is: [1.7684093]\n",
      "epoch: 2, batch: 800, loss is: [1.724558]\n",
      "epoch: 3, batch: 0, loss is: [1.6802766]\n",
      "epoch: 3, batch: 200, loss is: [1.5658767]\n",
      "epoch: 3, batch: 400, loss is: [1.6784208]\n",
      "epoch: 3, batch: 600, loss is: [1.6573]\n",
      "epoch: 3, batch: 800, loss is: [1.672125]\n",
      "epoch: 4, batch: 0, loss is: [1.6529887]\n",
      "epoch: 4, batch: 200, loss is: [1.7407854]\n",
      "epoch: 4, batch: 400, loss is: [1.6904243]\n",
      "epoch: 4, batch: 600, loss is: [1.6368508]\n",
      "epoch: 4, batch: 800, loss is: [1.636112]\n",
      "epoch: 5, batch: 0, loss is: [1.6950711]\n",
      "epoch: 5, batch: 200, loss is: [1.6894526]\n",
      "epoch: 5, batch: 400, loss is: [1.7217112]\n",
      "epoch: 5, batch: 600, loss is: [1.710257]\n",
      "epoch: 5, batch: 800, loss is: [1.5724576]\n",
      "epoch: 6, batch: 0, loss is: [1.6723981]\n",
      "epoch: 6, batch: 200, loss is: [1.7403071]\n",
      "epoch: 6, batch: 400, loss is: [1.6650703]\n",
      "epoch: 6, batch: 600, loss is: [1.767605]\n",
      "epoch: 6, batch: 800, loss is: [1.6281886]\n",
      "epoch: 7, batch: 0, loss is: [1.6549528]\n",
      "epoch: 7, batch: 200, loss is: [1.6234987]\n",
      "epoch: 7, batch: 400, loss is: [1.6151721]\n",
      "epoch: 7, batch: 600, loss is: [1.7080266]\n",
      "epoch: 7, batch: 800, loss is: [1.5701742]\n",
      "epoch: 8, batch: 0, loss is: [1.6216972]\n",
      "epoch: 8, batch: 200, loss is: [1.6160946]\n",
      "epoch: 8, batch: 400, loss is: [1.6558604]\n",
      "epoch: 8, batch: 600, loss is: [1.6863674]\n",
      "epoch: 8, batch: 800, loss is: [1.677884]\n",
      "epoch: 9, batch: 0, loss is: [1.68418]\n",
      "epoch: 9, batch: 200, loss is: [1.8141158]\n",
      "epoch: 9, batch: 400, loss is: [1.6553969]\n",
      "epoch: 9, batch: 600, loss is: [1.5934746]\n",
      "epoch: 9, batch: 800, loss is: [1.6817579]\n"
     ]
    },
    {
     "data": {
      "image/png": "[encoded data removed]",
      "text/plain": [
       "<Figure size 640x480 with 1 Axes>"
      ]
     },
     "metadata": {},
     "output_type": "display_data"
    }
   ],
   "source": [
    "model_softmax = SOFTMAX_NET()\n",
    "losses_softmax = train(model_softmax)"
   ]
  },
  {
   "cell_type": "code",
   "execution_count": 26,
   "metadata": {},
   "outputs": [],
   "source": [
    "def evaluation(model, datasets):\n",
    "    model.eval()\n",
    "\n",
    "    acc_set = list()\n",
    "    for batch_id, data in enumerate(datasets()):\n",
    "        images, labels = data\n",
    "        images = paddle.to_tensor(images)\n",
    "        labels = paddle.to_tensor(labels)\n",
    "        pred = model(images)   # 获取预测值\n",
    "        acc = paddle.metric.accuracy(input=pred, label=labels)\n",
    "        acc_set.extend(acc.numpy())\n",
    "    \n",
    "    # #计算多个batch的准确率\n",
    "    acc_val_mean = np.array(acc_set).mean()\n",
    "    return acc_val_mean"
   ]
  },
  {
   "cell_type": "code",
   "execution_count": 27,
   "metadata": {},
   "outputs": [
    {
     "name": "stdout",
     "output_type": "stream",
     "text": [
      "acc_of_softmax:0.8304139971733093\n"
     ]
    }
   ],
   "source": [
    "acc_of_softmax = evaluation(model_softmax, test_loader)\n",
    "print(f'acc_of_softmax:{acc_of_softmax}')"
   ]
  }
 ],
 "metadata": {
  "kernelspec": {
   "display_name": "d2l",
   "language": "python",
   "name": "python3"
  },
  "language_info": {
   "codemirror_mode": {
    "name": "ipython",
    "version": 3
   },
   "file_extension": ".py",
   "mimetype": "text/x-python",
   "name": "python",
   "nbconvert_exporter": "python",
   "pygments_lexer": "ipython3",
   "version": "3.8.16"
  }
 },
 "nbformat": 4,
 "nbformat_minor": 2
}
