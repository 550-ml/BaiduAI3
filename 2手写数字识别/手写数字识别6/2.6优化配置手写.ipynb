{
 "cells": [
  {
   "cell_type": "code",
   "execution_count": 6,
   "metadata": {},
   "outputs": [
    {
     "name": "stderr",
     "output_type": "stream",
     "text": [
      "e:\\SoftWare\\Program\\Anaconda\\envs\\d2l\\lib\\site-packages\\paddle\\fluid\\reader.py:486: UserWarning: DataLoader with multi-process mode is not supported on MacOs and Windows currently. Please use signle-process mode with num_workers = 0 instead\n",
      "  warnings.warn(\n"
     ]
    }
   ],
   "source": [
    "import paddle\n",
    "from data_process import get_MNIST_dataloader\n",
    "from MNIST_network import MNIST\n",
    "\n",
    "train_loader, test_loader = get_MNIST_dataloader()"
   ]
  },
  {
   "cell_type": "code",
   "execution_count": 2,
   "metadata": {},
   "outputs": [
    {
     "name": "stdout",
     "output_type": "stream",
     "text": [
      "device: gpu:0\n"
     ]
    }
   ],
   "source": [
    "import paddle\n",
    "\n",
    "device = paddle.device.get_device()\n",
    "\n",
    "print('device:', device)"
   ]
  },
  {
   "cell_type": "code",
   "execution_count": 3,
   "metadata": {},
   "outputs": [
    {
     "name": "stdout",
     "output_type": "stream",
     "text": [
      "Place(cpu)\n",
      "Place(gpu:0)\n"
     ]
    }
   ],
   "source": [
    "import paddle\n",
    "x = paddle.to_tensor(1.0, place=paddle.CPUPlace())\n",
    "print(x.place)        # CPUPlace\n",
    "\n",
    "y = x.cuda()\n",
    "print(y.place)        # CUDAPlace(0)"
   ]
  },
  {
   "cell_type": "code",
   "execution_count": 7,
   "metadata": {},
   "outputs": [
    {
     "name": "stdout",
     "output_type": "stream",
     "text": [
      "epoch_id0, batch_id0, lossTensor(shape=[1], dtype=float32, place=Place(gpu:0), stop_gradient=False,\n",
      "       [5.00350571])\n",
      "epoch_id0, batch_id100, lossTensor(shape=[1], dtype=float32, place=Place(gpu:0), stop_gradient=False,\n",
      "       [2.29112077])\n",
      "epoch_id0, batch_id200, lossTensor(shape=[1], dtype=float32, place=Place(gpu:0), stop_gradient=False,\n",
      "       [2.30266857])\n",
      "epoch_id0, batch_id300, lossTensor(shape=[1], dtype=float32, place=Place(gpu:0), stop_gradient=False,\n",
      "       [2.32182217])\n",
      "epoch_id0, batch_id400, lossTensor(shape=[1], dtype=float32, place=Place(gpu:0), stop_gradient=False,\n",
      "       [2.31923318])\n",
      "epoch_id0, batch_id500, lossTensor(shape=[1], dtype=float32, place=Place(gpu:0), stop_gradient=False,\n",
      "       [2.29653788])\n",
      "epoch_id0, batch_id600, lossTensor(shape=[1], dtype=float32, place=Place(gpu:0), stop_gradient=False,\n",
      "       [2.28557038])\n",
      "epoch_id0, batch_id700, lossTensor(shape=[1], dtype=float32, place=Place(gpu:0), stop_gradient=False,\n",
      "       [2.29461408])\n",
      "epoch_id0, batch_id800, lossTensor(shape=[1], dtype=float32, place=Place(gpu:0), stop_gradient=False,\n",
      "       [2.29612184])\n",
      "epoch_id0, batch_id900, lossTensor(shape=[1], dtype=float32, place=Place(gpu:0), stop_gradient=False,\n",
      "       [2.31611156])\n",
      "epoch_id1, batch_id0, lossTensor(shape=[1], dtype=float32, place=Place(gpu:0), stop_gradient=False,\n",
      "       [2.30751944])\n",
      "epoch_id1, batch_id100, lossTensor(shape=[1], dtype=float32, place=Place(gpu:0), stop_gradient=False,\n",
      "       [2.30225706])\n",
      "epoch_id1, batch_id200, lossTensor(shape=[1], dtype=float32, place=Place(gpu:0), stop_gradient=False,\n",
      "       [2.30404353])\n",
      "epoch_id1, batch_id300, lossTensor(shape=[1], dtype=float32, place=Place(gpu:0), stop_gradient=False,\n",
      "       [2.29811549])\n",
      "epoch_id1, batch_id400, lossTensor(shape=[1], dtype=float32, place=Place(gpu:0), stop_gradient=False,\n",
      "       [2.28971863])\n",
      "epoch_id1, batch_id500, lossTensor(shape=[1], dtype=float32, place=Place(gpu:0), stop_gradient=False,\n",
      "       [2.30004740])\n",
      "epoch_id1, batch_id600, lossTensor(shape=[1], dtype=float32, place=Place(gpu:0), stop_gradient=False,\n",
      "       [2.29634666])\n",
      "epoch_id1, batch_id700, lossTensor(shape=[1], dtype=float32, place=Place(gpu:0), stop_gradient=False,\n",
      "       [2.30895925])\n",
      "epoch_id1, batch_id800, lossTensor(shape=[1], dtype=float32, place=Place(gpu:0), stop_gradient=False,\n",
      "       [2.31469774])\n",
      "epoch_id1, batch_id900, lossTensor(shape=[1], dtype=float32, place=Place(gpu:0), stop_gradient=False,\n",
      "       [2.30521154])\n",
      "epoch_id2, batch_id0, lossTensor(shape=[1], dtype=float32, place=Place(gpu:0), stop_gradient=False,\n",
      "       [2.31221128])\n",
      "epoch_id2, batch_id100, lossTensor(shape=[1], dtype=float32, place=Place(gpu:0), stop_gradient=False,\n",
      "       [2.31762719])\n",
      "epoch_id2, batch_id200, lossTensor(shape=[1], dtype=float32, place=Place(gpu:0), stop_gradient=False,\n",
      "       [2.30559969])\n",
      "epoch_id2, batch_id300, lossTensor(shape=[1], dtype=float32, place=Place(gpu:0), stop_gradient=False,\n",
      "       [2.30017686])\n",
      "epoch_id2, batch_id400, lossTensor(shape=[1], dtype=float32, place=Place(gpu:0), stop_gradient=False,\n",
      "       [2.30377245])\n",
      "epoch_id2, batch_id500, lossTensor(shape=[1], dtype=float32, place=Place(gpu:0), stop_gradient=False,\n",
      "       [2.31070566])\n",
      "epoch_id2, batch_id600, lossTensor(shape=[1], dtype=float32, place=Place(gpu:0), stop_gradient=False,\n",
      "       [2.29481792])\n",
      "epoch_id2, batch_id700, lossTensor(shape=[1], dtype=float32, place=Place(gpu:0), stop_gradient=False,\n",
      "       [2.28588104])\n",
      "epoch_id2, batch_id800, lossTensor(shape=[1], dtype=float32, place=Place(gpu:0), stop_gradient=False,\n",
      "       [2.30759549])\n",
      "epoch_id2, batch_id900, lossTensor(shape=[1], dtype=float32, place=Place(gpu:0), stop_gradient=False,\n",
      "       [2.31673288])\n",
      "epoch_id3, batch_id0, lossTensor(shape=[1], dtype=float32, place=Place(gpu:0), stop_gradient=False,\n",
      "       [2.31089640])\n",
      "epoch_id3, batch_id100, lossTensor(shape=[1], dtype=float32, place=Place(gpu:0), stop_gradient=False,\n",
      "       [2.29975700])\n",
      "epoch_id3, batch_id200, lossTensor(shape=[1], dtype=float32, place=Place(gpu:0), stop_gradient=False,\n",
      "       [2.28473043])\n",
      "epoch_id3, batch_id300, lossTensor(shape=[1], dtype=float32, place=Place(gpu:0), stop_gradient=False,\n",
      "       [2.30603433])\n",
      "epoch_id3, batch_id400, lossTensor(shape=[1], dtype=float32, place=Place(gpu:0), stop_gradient=False,\n",
      "       [2.30598927])\n",
      "epoch_id3, batch_id500, lossTensor(shape=[1], dtype=float32, place=Place(gpu:0), stop_gradient=False,\n",
      "       [2.29111433])\n",
      "epoch_id3, batch_id600, lossTensor(shape=[1], dtype=float32, place=Place(gpu:0), stop_gradient=False,\n",
      "       [2.28853273])\n",
      "epoch_id3, batch_id700, lossTensor(shape=[1], dtype=float32, place=Place(gpu:0), stop_gradient=False,\n",
      "       [2.31113458])\n",
      "epoch_id3, batch_id800, lossTensor(shape=[1], dtype=float32, place=Place(gpu:0), stop_gradient=False,\n",
      "       [2.30872393])\n",
      "epoch_id3, batch_id900, lossTensor(shape=[1], dtype=float32, place=Place(gpu:0), stop_gradient=False,\n",
      "       [2.30678082])\n",
      "epoch_id4, batch_id0, lossTensor(shape=[1], dtype=float32, place=Place(gpu:0), stop_gradient=False,\n",
      "       [2.30657625])\n",
      "epoch_id4, batch_id100, lossTensor(shape=[1], dtype=float32, place=Place(gpu:0), stop_gradient=False,\n",
      "       [2.31133509])\n",
      "epoch_id4, batch_id200, lossTensor(shape=[1], dtype=float32, place=Place(gpu:0), stop_gradient=False,\n",
      "       [2.29715681])\n",
      "epoch_id4, batch_id300, lossTensor(shape=[1], dtype=float32, place=Place(gpu:0), stop_gradient=False,\n",
      "       [2.30622673])\n",
      "epoch_id4, batch_id400, lossTensor(shape=[1], dtype=float32, place=Place(gpu:0), stop_gradient=False,\n",
      "       [2.29517817])\n",
      "epoch_id4, batch_id500, lossTensor(shape=[1], dtype=float32, place=Place(gpu:0), stop_gradient=False,\n",
      "       [2.30637169])\n",
      "epoch_id4, batch_id600, lossTensor(shape=[1], dtype=float32, place=Place(gpu:0), stop_gradient=False,\n",
      "       [2.30904841])\n",
      "epoch_id4, batch_id700, lossTensor(shape=[1], dtype=float32, place=Place(gpu:0), stop_gradient=False,\n",
      "       [2.28975344])\n",
      "epoch_id4, batch_id800, lossTensor(shape=[1], dtype=float32, place=Place(gpu:0), stop_gradient=False,\n",
      "       [2.29841566])\n",
      "epoch_id4, batch_id900, lossTensor(shape=[1], dtype=float32, place=Place(gpu:0), stop_gradient=False,\n",
      "       [2.31032491])\n"
     ]
    }
   ],
   "source": [
    "import paddle.nn.functional as F\n",
    "\n",
    "def train(model):\n",
    "    # 开启GPU\n",
    "    use_gpu = True\n",
    "    paddle.device.set_device('gpu:0') if use_gpu else paddle.device.set_device('cpu')\n",
    "    model.train()\n",
    "\n",
    "    # 设置不同的学习率\n",
    "    opt = paddle.optimizer.Adam(learning_rate=0.01, parameters=model.parameters())\n",
    "\n",
    "    EPOCH_NUM = 5\n",
    "    for epoch_id in range(EPOCH_NUM):\n",
    "        for batch_id, data in enumerate(train_loader()):\n",
    "            images, labels = data \n",
    "            images = paddle.to_tensor(images)\n",
    "            labels = paddle.to_tensor(labels)\n",
    "\n",
    "            # 前向\n",
    "            predicts = model(images)\n",
    "\n",
    "            # 损失\n",
    "            loss = F.cross_entropy(predicts, labels)\n",
    "            avg_loss = paddle.mean(loss)\n",
    "\n",
    "            # 每训练100，打印\n",
    "            if batch_id%100 == 0:\n",
    "                print(f'epoch_id{epoch_id}, batch_id{batch_id}, loss{avg_loss}')\n",
    "            \n",
    "            # 损失函数的方向传播\n",
    "            avg_loss.backward()\n",
    "            opt.step()\n",
    "            opt.clear_grad()\n",
    "    \n",
    "    # 保存参数\n",
    "    paddle.save(model.state_dict(),'mnist.pdparams')\n",
    "\n",
    "model = MNIST()\n",
    "\n",
    "train(model)"
   ]
  },
  {
   "cell_type": "code",
   "execution_count": 10,
   "metadata": {},
   "outputs": [
    {
     "name": "stderr",
     "output_type": "stream",
     "text": [
      "e:\\SoftWare\\Program\\Anaconda\\envs\\d2l\\lib\\site-packages\\paddle\\distributed\\parallel.py:173: UserWarning: Currently not a parallel execution environment, `paddle.distributed.init_parallel_env` will not do anything.\n",
      "  warnings.warn(\n",
      "e:\\SoftWare\\Program\\Anaconda\\envs\\d2l\\lib\\site-packages\\paddle\\fluid\\dygraph\\parallel.py:655: UserWarning: The program will return to single-card operation. Please check 1, whether you use spawn or fleetrun to start the program. 2, Whether it is a multi-card program. 3, Is the current environment multi-card.\n",
      "  warnings.warn(\"The program will return to single-card operation. \"\n"
     ]
    },
    {
     "name": "stdout",
     "output_type": "stream",
     "text": [
      "epoch: 0, batch: 0, loss is: [2.8759856]\n",
      "epoch: 0, batch: 200, loss is: [0.25942078]\n",
      "epoch: 0, batch: 400, loss is: [0.1325554]\n",
      "epoch: 0, batch: 600, loss is: [0.2645532]\n",
      "epoch: 0, batch: 800, loss is: [0.05263087]\n",
      "epoch: 1, batch: 0, loss is: [0.09072506]\n",
      "epoch: 1, batch: 200, loss is: [0.10816649]\n",
      "epoch: 1, batch: 400, loss is: [0.15476905]\n",
      "epoch: 1, batch: 600, loss is: [0.16526055]\n",
      "epoch: 1, batch: 800, loss is: [0.06706055]\n",
      "epoch: 2, batch: 0, loss is: [0.09617238]\n",
      "epoch: 2, batch: 200, loss is: [0.00534865]\n",
      "epoch: 2, batch: 400, loss is: [0.08193104]\n",
      "epoch: 2, batch: 600, loss is: [0.19643638]\n",
      "epoch: 2, batch: 800, loss is: [0.15392247]\n",
      "epoch: 3, batch: 0, loss is: [0.01126755]\n",
      "epoch: 3, batch: 200, loss is: [0.01784502]\n",
      "epoch: 3, batch: 400, loss is: [0.13685936]\n",
      "epoch: 3, batch: 600, loss is: [0.11486576]\n",
      "epoch: 3, batch: 800, loss is: [0.03811437]\n",
      "epoch: 4, batch: 0, loss is: [0.10884617]\n",
      "epoch: 4, batch: 200, loss is: [0.00469687]\n",
      "epoch: 4, batch: 400, loss is: [0.02162704]\n",
      "epoch: 4, batch: 600, loss is: [0.06610407]\n",
      "epoch: 4, batch: 800, loss is: [0.23182592]\n"
     ]
    }
   ],
   "source": [
    "import paddle\n",
    "import paddle.distributed as dist\n",
    "\n",
    "def train_multi_gpu(model):\n",
    "    # 初始化并行环境\n",
    "    dist.init_parallel_env()\n",
    "    # 修改2 - 增加paddle.DataParallel封装\n",
    "    model = paddle.DataParallel(model)\n",
    "    model.train()\n",
    "    \n",
    "    opt = paddle.optimizer.Adam(learning_rate=0.01, parameters=model.parameters())\n",
    "    EPOCH_NUM = 5\n",
    "    for epoch_id in range(EPOCH_NUM):\n",
    "        for batch_id, data in enumerate(train_loader()):\n",
    "            #准备数据，变得更加简洁\n",
    "            images, labels = data\n",
    "            images = paddle.to_tensor(images)\n",
    "            labels = paddle.to_tensor(labels)\n",
    "            #前向计算的过程\n",
    "            predicts = model(images)\n",
    "            #计算损失，取一个批次样本损失的平均值\n",
    "            loss = F.cross_entropy(predicts, labels)\n",
    "            avg_loss = paddle.mean(loss)\n",
    "            #每训练了100批次的数据，打印下当前Loss的情况\n",
    "            if batch_id % 200 == 0:\n",
    "                print(\"epoch: {}, batch: {}, loss is: {}\".format(epoch_id, batch_id, avg_loss.numpy()))\n",
    "            #后向传播，更新参数的过程\n",
    "            avg_loss.backward()\n",
    "            opt.step()\n",
    "            opt.clear_grad()\n",
    "\n",
    "    #保存模型参数\n",
    "    paddle.save(model.state_dict(), 'mnist.pdparams')\n",
    "\n",
    "#创建模型    \n",
    "model = MNIST()\n",
    "#启动训练过程\n",
    "train_multi_gpu(model)"
   ]
  },
  {
   "cell_type": "code",
   "execution_count": null,
   "metadata": {},
   "outputs": [],
   "source": []
  },
  {
   "cell_type": "code",
   "execution_count": null,
   "metadata": {},
   "outputs": [],
   "source": []
  }
 ],
 "metadata": {
  "kernelspec": {
   "display_name": "d2l",
   "language": "python",
   "name": "python3"
  },
  "language_info": {
   "codemirror_mode": {
    "name": "ipython",
    "version": 3
   },
   "file_extension": ".py",
   "mimetype": "text/x-python",
   "name": "python",
   "nbconvert_exporter": "python",
   "pygments_lexer": "ipython3",
   "version": "3.8.16"
  },
  "orig_nbformat": 4
 },
 "nbformat": 4,
 "nbformat_minor": 2
}
