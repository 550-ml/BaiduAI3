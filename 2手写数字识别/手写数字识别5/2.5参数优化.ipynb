{
 "cells": [
  {
   "cell_type": "code",
   "execution_count": 2,
   "metadata": {},
   "outputs": [
    {
     "name": "stderr",
     "output_type": "stream",
     "text": [
      "e:\\SoftWare\\Program\\Anaconda\\envs\\d2l\\lib\\site-packages\\paddle\\fluid\\reader.py:486: UserWarning: DataLoader with multi-process mode is not supported on MacOs and Windows currently. Please use signle-process mode with num_workers = 0 instead\n",
      "  warnings.warn(\n"
     ]
    }
   ],
   "source": [
    "import paddle\n",
    "from data_process import get_MNIST_dataloader\n",
    "from MNIST_network import MNIST\n",
    "\n",
    "train_loader, test_loader = get_MNIST_dataloader()"
   ]
  },
  {
   "cell_type": "code",
   "execution_count": 3,
   "metadata": {},
   "outputs": [
    {
     "name": "stdout",
     "output_type": "stream",
     "text": [
      "epoch0, batch0, loss3.2589268684387207\n",
      "epoch0, batch200, loss1.452752947807312\n",
      "epoch0, batch400, loss0.8871185779571533\n",
      "epoch0, batch600, loss0.7659862041473389\n",
      "epoch0, batch800, loss0.5073869228363037\n",
      "epoch1, batch0, loss0.5861822962760925\n",
      "epoch1, batch200, loss0.45500239729881287\n",
      "epoch1, batch400, loss0.46931061148643494\n",
      "epoch1, batch600, loss0.3873700499534607\n",
      "epoch1, batch800, loss0.3651587963104248\n",
      "epoch2, batch0, loss0.23781973123550415\n",
      "epoch2, batch200, loss0.4921814203262329\n",
      "epoch2, batch400, loss0.45013946294784546\n",
      "epoch2, batch600, loss0.2725829780101776\n",
      "epoch2, batch800, loss0.22360090911388397\n",
      "epoch3, batch0, loss0.2851981520652771\n",
      "epoch3, batch200, loss0.27253007888793945\n",
      "epoch3, batch400, loss0.16167059540748596\n",
      "epoch3, batch600, loss0.461344450712204\n",
      "epoch3, batch800, loss0.18113446235656738\n",
      "epoch4, batch0, loss0.16772782802581787\n",
      "epoch4, batch200, loss0.2842664420604706\n",
      "epoch4, batch400, loss0.23564966022968292\n",
      "epoch4, batch600, loss0.23397722840309143\n",
      "epoch4, batch800, loss0.2540246844291687\n",
      "epoch5, batch0, loss0.1481226682662964\n",
      "epoch5, batch200, loss0.22672688961029053\n",
      "epoch5, batch400, loss0.10791243612766266\n",
      "epoch5, batch600, loss0.21842338144779205\n",
      "epoch5, batch800, loss0.11111600697040558\n",
      "epoch6, batch0, loss0.2852553725242615\n",
      "epoch6, batch200, loss0.3274698555469513\n",
      "epoch6, batch400, loss0.2861570715904236\n",
      "epoch6, batch600, loss0.1612296998500824\n",
      "epoch6, batch800, loss0.2331971675157547\n",
      "epoch7, batch0, loss0.12889178097248077\n",
      "epoch7, batch200, loss0.19001130759716034\n",
      "epoch7, batch400, loss0.08535136282444\n",
      "epoch7, batch600, loss0.04648470878601074\n",
      "epoch7, batch800, loss0.16850239038467407\n",
      "epoch8, batch0, loss0.17433956265449524\n",
      "epoch8, batch200, loss0.20250993967056274\n",
      "epoch8, batch400, loss0.19973352551460266\n",
      "epoch8, batch600, loss0.13950562477111816\n",
      "epoch8, batch800, loss0.17344659566879272\n",
      "epoch9, batch0, loss0.1134905070066452\n",
      "epoch9, batch200, loss0.07615046203136444\n",
      "epoch9, batch400, loss0.15459051728248596\n",
      "epoch9, batch600, loss0.11787913739681244\n",
      "epoch9, batch800, loss0.1241169273853302\n"
     ]
    },
    {
     "ename": "",
     "evalue": "",
     "output_type": "error",
     "traceback": [
      "\u001b[1;31m在当前单元格或上一个单元格中执行代码时 Kernel 崩溃。请查看单元格中的代码，以确定故障的可能原因。有关详细信息，请单击 <a href='https://aka.ms/vscodeJupyterKernelCrash'>此处</a>。有关更多详细信息，请查看 Jupyter <a href='command:jupyter.viewOutput'>log</a>。"
     ]
    }
   ],
   "source": [
    "import paddle.nn.functional as F\n",
    "\n",
    "# 优化算法差别\n",
    "def train(model):\n",
    "    model.train()\n",
    "\n",
    "    opt = paddle.optimizer.SGD(learning_rate=0.001, parameters=model.parameters())\n",
    "    # opt = paddle.optimizer.SGD(learning_rate=0.0001, parameters=model.parameters())\n",
    "    # opt = paddle.optimizer.SGD(learning_rate=0.01, parameters=model.parameters())\n",
    "\n",
    "    EPOCH_NUM = 10\n",
    "    loss_list = []\n",
    "    for epoch_id in range(EPOCH_NUM):\n",
    "        for batch_id, data in enumerate(train_loader()):\n",
    "            # 准备数据\n",
    "            images, labels = data \n",
    "            images = paddle.to_tensor(images)\n",
    "            labels = paddle.to_tensor(labels)\n",
    "\n",
    "            # 前向\n",
    "            predicts = model(images)\n",
    "\n",
    "            # 损失\n",
    "            loss = F.cross_entropy(predicts, labels)\n",
    "            avg_loss = paddle.mean(loss)\n",
    "\n",
    "            if batch_id % 200 == 0:\n",
    "                loss = avg_loss.numpy()[0]\n",
    "                loss_list.append(loss)\n",
    "                print(f'epoch{epoch_id}, batch{batch_id}, loss{loss}')\n",
    "            \n",
    "            # 方向传播损失，梯度下降\n",
    "            avg_loss.backward()\n",
    "            opt.step()\n",
    "            opt.clear_grad()\n",
    "\n",
    "    # 保存\n",
    "    paddle.save(model.state_dict(), 'mnist.paparams')\n",
    "    return loss_list\n",
    "\n",
    "model = MNIST()\n",
    "loss_list = train(model)\n",
    "\n",
    "        \n"
   ]
  },
  {
   "cell_type": "code",
   "execution_count": null,
   "metadata": {},
   "outputs": [],
   "source": []
  },
  {
   "cell_type": "code",
   "execution_count": null,
   "metadata": {},
   "outputs": [],
   "source": []
  }
 ],
 "metadata": {
  "kernelspec": {
   "display_name": "d2l",
   "language": "python",
   "name": "python3"
  },
  "language_info": {
   "codemirror_mode": {
    "name": "ipython",
    "version": 3
   },
   "file_extension": ".py",
   "mimetype": "text/x-python",
   "name": "python",
   "nbconvert_exporter": "python",
   "pygments_lexer": "ipython3",
   "version": "3.8.16"
  },
  "orig_nbformat": 4
 },
 "nbformat": 4,
 "nbformat_minor": 2
}
