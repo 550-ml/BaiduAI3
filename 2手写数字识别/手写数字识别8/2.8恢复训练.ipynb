{
 "cells": [
  {
   "cell_type": "code",
   "execution_count": 2,
   "metadata": {},
   "outputs": [
    {
     "name": "stderr",
     "output_type": "stream",
     "text": [
      "e:\\SoftWare\\Program\\Anaconda\\envs\\d2l\\lib\\site-packages\\paddle\\fluid\\reader.py:486: UserWarning: DataLoader with multi-process mode is not supported on MacOs and Windows currently. Please use signle-process mode with num_workers = 0 instead\n",
      "  warnings.warn(\n"
     ]
    }
   ],
   "source": [
    "import os\n",
    "from data_process import get_MNIST_dataloader\n",
    "from MNIST_network import MNIST\n",
    "import paddle.nn.functional as F\n",
    "import paddle\n",
    "train_loader, test_loader = get_MNIST_dataloader()"
   ]
  },
  {
   "cell_type": "code",
   "execution_count": 3,
   "metadata": {},
   "outputs": [],
   "source": [
    "class Trainer(object):\n",
    "    def __init__(self, model_path, model, optimizer):\n",
    "        self.model_path = model_path   # 模型存放路径 \n",
    "        self.model = model             # 定义的模型\n",
    "        self.optimizer = optimizer     # 优化器\n",
    "\n",
    "    def save(self):\n",
    "        # 保存模型\n",
    "        paddle.save(self.model.state_dict(), self.model_path)\n",
    "\n",
    "    def train_step(self, data):\n",
    "        images, labels = data\n",
    "        # 前向计算的过程\n",
    "        predicts = self.model(images)\n",
    "        # 计算损失\n",
    "        loss = F.cross_entropy(predicts, labels)\n",
    "        avg_loss = paddle.mean(loss)\n",
    "        # 后向传播，更新参数的过程\n",
    "        avg_loss.backward()\n",
    "        self.optimizer.step()\n",
    "        self.optimizer.clear_grad()\n",
    "        return avg_loss\n",
    "\n",
    "    def train_epoch(self, datasets, epoch):\n",
    "        self.model.train()\n",
    "        for batch_id, data in enumerate(datasets()):\n",
    "            loss = self.train_step(data)\n",
    "            # 每训练了1000批次的数据，打印下当前Loss的情况\n",
    "            if batch_id % 500 == 0:\n",
    "                print(\"epoch_id: {}, batch_id: {}, loss is: {}\".format(epoch, batch_id, loss.numpy()))\n",
    "\n",
    "    def train(self, train_datasets, start_epoch, end_epoch, save_path):\n",
    "        if not os.path.exists(save_path):\n",
    "            os.makedirs(save_path)\n",
    "        for i in range(start_epoch, end_epoch):\n",
    "            self.train_epoch(train_datasets, i)\n",
    "\n",
    "            paddle.save(self.optimizer.state_dict(), './{}/mnist_epoch{}'.format(save_path,i)+'.pdopt')\n",
    "            paddle.save(self.model.state_dict(), './{}/mnist_epoch{}'.format(save_path,i)+'.pdparams')\n",
    "\n",
    "        self.save()"
   ]
  },
  {
   "cell_type": "code",
   "execution_count": 4,
   "metadata": {},
   "outputs": [
    {
     "name": "stdout",
     "output_type": "stream",
     "text": [
      "epoch_id: 0, batch_id: 0, loss is: [4.078209]\n",
      "epoch_id: 0, batch_id: 500, loss is: [0.33502007]\n",
      "epoch_id: 1, batch_id: 0, loss is: [0.20112367]\n",
      "epoch_id: 1, batch_id: 500, loss is: [0.10331787]\n",
      "epoch_id: 2, batch_id: 0, loss is: [0.07159668]\n",
      "epoch_id: 2, batch_id: 500, loss is: [0.2904286]\n"
     ]
    }
   ],
   "source": [
    "#在使用GPU机器时，可以将use_gpu变量设置成True\n",
    "use_gpu = True\n",
    "paddle.set_device('gpu:0') if use_gpu else paddle.set_device('cpu')\n",
    "\n",
    "paddle.seed(1024)\n",
    "\n",
    "epochs = 3\n",
    "BATCH_SIZE = 32\n",
    "model_path = './mnist.pdparams'\n",
    "\n",
    "model = MNIST()\n",
    "\n",
    "total_steps = (int(50000//BATCH_SIZE) + 1) * epochs\n",
    "lr = paddle.optimizer.lr.PolynomialDecay(learning_rate=0.01, decay_steps=total_steps, end_lr=0.001)\n",
    "optimizer = paddle.optimizer.Adam(learning_rate=lr, parameters=model.parameters())\n",
    "\n",
    "trainer = Trainer(\n",
    "    model_path=model_path,\n",
    "    model=model,\n",
    "    optimizer=optimizer\n",
    ")\n",
    "\n",
    "trainer.train(train_datasets=train_loader, start_epoch = 0, end_epoch = epochs, save_path='checkpoint')"
   ]
  },
  {
   "cell_type": "code",
   "execution_count": 5,
   "metadata": {},
   "outputs": [
    {
     "ename": "AttributeError",
     "evalue": "module 'paddle.optimizer.lr' has no attribute 'PolynomiaDecay'",
     "output_type": "error",
     "traceback": [
      "\u001b[1;31m---------------------------------------------------------------------------\u001b[0m",
      "\u001b[1;31mAttributeError\u001b[0m                            Traceback (most recent call last)",
      "\u001b[1;32me:\\Myproject\\VS_project\\BaiduAI\\手写数字识别8\\2.8恢复训练.ipynb 单元格 4\u001b[0m in \u001b[0;36m<cell line: 10>\u001b[1;34m()\u001b[0m\n\u001b[0;32m      <a href='vscode-notebook-cell:/e%3A/Myproject/VS_project/BaiduAI/%E6%89%8B%E5%86%99%E6%95%B0%E5%AD%97%E8%AF%86%E5%88%AB8/2.8%E6%81%A2%E5%A4%8D%E8%AE%AD%E7%BB%83.ipynb#W3sZmlsZQ%3D%3D?line=7'>8</a>\u001b[0m model \u001b[39m=\u001b[39m MNIST()\n\u001b[0;32m      <a href='vscode-notebook-cell:/e%3A/Myproject/VS_project/BaiduAI/%E6%89%8B%E5%86%99%E6%95%B0%E5%AD%97%E8%AF%86%E5%88%AB8/2.8%E6%81%A2%E5%A4%8D%E8%AE%AD%E7%BB%83.ipynb#W3sZmlsZQ%3D%3D?line=8'>9</a>\u001b[0m total_steps \u001b[39m=\u001b[39m (\u001b[39mint\u001b[39m(\u001b[39m50000\u001b[39m\u001b[39m/\u001b[39mBATCH_SIZE) \u001b[39m+\u001b[39m\u001b[39m1\u001b[39m )\u001b[39m*\u001b[39m epochs\n\u001b[1;32m---> <a href='vscode-notebook-cell:/e%3A/Myproject/VS_project/BaiduAI/%E6%89%8B%E5%86%99%E6%95%B0%E5%AD%97%E8%AF%86%E5%88%AB8/2.8%E6%81%A2%E5%A4%8D%E8%AE%AD%E7%BB%83.ipynb#W3sZmlsZQ%3D%3D?line=9'>10</a>\u001b[0m lr \u001b[39m=\u001b[39m paddle\u001b[39m.\u001b[39;49moptimizer\u001b[39m.\u001b[39;49mlr\u001b[39m.\u001b[39;49mPolynomiaDecay(learning_rate \u001b[39m=\u001b[39m \u001b[39m0.01\u001b[39m, decay_steps\u001b[39m=\u001b[39mtotal_steps,end_lr\u001b[39m=\u001b[39m \u001b[39m0.001\u001b[39m)\n\u001b[0;32m     <a href='vscode-notebook-cell:/e%3A/Myproject/VS_project/BaiduAI/%E6%89%8B%E5%86%99%E6%95%B0%E5%AD%97%E8%AF%86%E5%88%AB8/2.8%E6%81%A2%E5%A4%8D%E8%AE%AD%E7%BB%83.ipynb#W3sZmlsZQ%3D%3D?line=10'>11</a>\u001b[0m optimizer \u001b[39m=\u001b[39m paddle\u001b[39m.\u001b[39moptimizer\u001b[39m.\u001b[39mAdam(learning_rate\u001b[39m=\u001b[39mlr, parameters\u001b[39m=\u001b[39mmodel\u001b[39m.\u001b[39mparameters())\n\u001b[0;32m     <a href='vscode-notebook-cell:/e%3A/Myproject/VS_project/BaiduAI/%E6%89%8B%E5%86%99%E6%95%B0%E5%AD%97%E8%AF%86%E5%88%AB8/2.8%E6%81%A2%E5%A4%8D%E8%AE%AD%E7%BB%83.ipynb#W3sZmlsZQ%3D%3D?line=12'>13</a>\u001b[0m params_dict \u001b[39m=\u001b[39m paddle\u001b[39m.\u001b[39mload(\u001b[39m'\u001b[39m\u001b[39m./checkpoint/mnist_epoch0.pdparams\u001b[39m\u001b[39m'\u001b[39m)\n",
      "\u001b[1;31mAttributeError\u001b[0m: module 'paddle.optimizer.lr' has no attribute 'PolynomiaDecay'"
     ]
    }
   ],
   "source": [
    "paddle.seed(1024)\n",
    "\n",
    "\n",
    "epochs = 3\n",
    "BATCH_SIZE = 32\n",
    "model_path = './mnist_retrain.pdparams'\n",
    "\n",
    "model = MNIST()\n",
    "total_steps = (int(50000/BATCH_SIZE) +1 )* epochs\n",
    "lr = paddle.optimizer.lr.PolynomiaDecay(learning_rate = 0.01, decay_steps=total_steps,end_lr= 0.001)\n",
    "optimizer = paddle.optimizer.Adam(learning_rate=lr, parameters=model.parameters())\n",
    "\n",
    "params_dict = paddle.load('./checkpoint/mnist_epoch0.pdparams')\n",
    "opt_dict = paddle.load('./checkpoint/mnist_epoch0.pdopt')\n",
    "\n",
    "# 加载参数到模型\n",
    "model.set_state_dict(params_dict)\n",
    "optimizer.set_state_dict(opt_dict)\n",
    "\n",
    "trainer = Trainer(\n",
    "    model_path=model_path,\n",
    "    model=model,\n",
    "    optimizer=optimizer\n",
    ")\n",
    "# 前面训练模型都保存了，这里save_path设置为新路径，实际训练中保存在同一目录就可以\n",
    "trainer.train(train_datasets=train_loader,start_epoch = 1, end_epoch = epochs, save_path='checkpoint_con')"
   ]
  },
  {
   "cell_type": "code",
   "execution_count": null,
   "metadata": {},
   "outputs": [],
   "source": [
    "# 这里我做一些修改"
   ]
  }
 ],
 "metadata": {
  "kernelspec": {
   "display_name": "d2l",
   "language": "python",
   "name": "python3"
  },
  "language_info": {
   "codemirror_mode": {
    "name": "ipython",
    "version": 3
   },
   "file_extension": ".py",
   "mimetype": "text/x-python",
   "name": "python",
   "nbconvert_exporter": "python",
   "pygments_lexer": "ipython3",
   "version": "3.8.16"
  },
  "orig_nbformat": 4
 },
 "nbformat": 4,
 "nbformat_minor": 2
}
